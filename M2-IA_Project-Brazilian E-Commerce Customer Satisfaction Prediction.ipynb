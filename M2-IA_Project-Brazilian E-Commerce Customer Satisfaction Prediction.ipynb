{
 "cells": [
  {
   "cell_type": "markdown",
   "metadata": {},
   "source": [
    "# <center>Customer Satisfaction Prediction<center>\n",
    "    \n",
    "   <b>Presented by:</b>\n",
    "        \n",
    "   Soasingarayar Abonia\n",
    "        \n",
    "   M2-Artificial Intelligence-IA school\n",
    "   \n",
    "   Aissatou BA\n",
    "   \n",
    "   M1-Artificial Intelligence-IA school\n",
    "        \n",
    "   <b>Guided by:</b>\n",
    "       \n",
    "   Manel Boumaiza\n",
    "       \n",
    "   Prof. AI-IA School\n",
    "   \n",
    "## Motivation and Credits\n",
    "\n",
    "1.Manel Boumaiza-Prof. AI-IA School\n",
    "\n",
    "\n",
    "2.Kagglers\n",
    "\n",
    "## Introduction\n",
    "\n",
    "  In this kernel we will develop and compare different ML algorithm for to predict customer satisfaction based on their reviews.The goal of this section is to analyze what makes up satisfaction and disappointment. \n",
    "We will not focus on review scores prediction but rather on discovering where to take actions for increasing customer satisfaction. \n",
    "We ﬁrst try to understand which features are relevant to determine the review score.\n"
   ]
  },
  {
   "cell_type": "code",
   "execution_count": 1,
   "metadata": {},
   "outputs": [],
   "source": [
    "import pandas as pd\n",
    "import numpy as np\n",
    "import matplotlib.pyplot as plt\n",
    "import seaborn as sns\n",
    "sns.set_style(\"dark\")"
   ]
  },
  {
   "cell_type": "markdown",
   "metadata": {},
   "source": [
    "For this part, we make the use of the preprocessed dataset as a benchmark. We will then modify it \n",
    "for the purpose of the study."
   ]
  },
  {
   "cell_type": "code",
   "execution_count": 2,
   "metadata": {},
   "outputs": [
    {
     "name": "stdout",
     "output_type": "stream",
     "text": [
      "<class 'pandas.core.frame.DataFrame'>\n",
      "Int64Index: 94625 entries, 0 to 94624\n",
      "Data columns (total 36 columns):\n",
      "order_id                         94625 non-null object\n",
      "customer_id                      94625 non-null object\n",
      "order_status                     94625 non-null object\n",
      "order_purchase_timestamp         94625 non-null object\n",
      "order_approved_at                94625 non-null object\n",
      "order_delivered_carrier_date     94625 non-null object\n",
      "order_delivered_customer_date    94625 non-null object\n",
      "order_estimated_delivery_date    94625 non-null object\n",
      "payment_sequential               94625 non-null int64\n",
      "payment_type                     94625 non-null object\n",
      "payment_installments             94625 non-null int64\n",
      "payment_value                    94625 non-null float64\n",
      "customer_unique_id               94625 non-null object\n",
      "customer_zip_code_prefix         94625 non-null int64\n",
      "customer_city                    94625 non-null object\n",
      "customer_state                   94625 non-null object\n",
      "review_id                        94625 non-null object\n",
      "review_score                     94625 non-null int64\n",
      "review_comment_title             94625 non-null object\n",
      "review_comment_message           94625 non-null object\n",
      "review_creation_date             94625 non-null object\n",
      "review_answer_timestamp          94625 non-null object\n",
      "order_item_id                    94625 non-null int64\n",
      "seller_id                        94625 non-null object\n",
      "product_id                       94625 non-null object\n",
      "shipping_limit_date              94625 non-null object\n",
      "price                            94625 non-null float64\n",
      "freight_value                    94625 non-null float64\n",
      "product_category_name            94625 non-null object\n",
      "product_name_lenght              94625 non-null int64\n",
      "product_description_lenght       94625 non-null int64\n",
      "product_photos_qty               94625 non-null int64\n",
      "product_weight_g                 94625 non-null int64\n",
      "product_length_cm                94625 non-null int64\n",
      "product_height_cm                94625 non-null int64\n",
      "product_width_cm                 94625 non-null int64\n",
      "dtypes: float64(3), int64(12), object(21)\n",
      "memory usage: 26.7+ MB\n"
     ]
    }
   ],
   "source": [
    "import pymysql.cursors\n",
    "\n",
    "# Connect to the database\n",
    "connection = pymysql.connect(host='localhost',\n",
    "                             user='root',\n",
    "                             password='',\n",
    "                             db='brazilian e-commerce',\n",
    "                             charset='utf8mb4',\n",
    "                             cursorclass=pymysql.cursors.DictCursor)\n",
    "df = pd.read_sql_query(\n",
    "    \"select * from orders;\",\n",
    "    connection)\n",
    "\n",
    "df = df.dropna(subset=['order_id','seller_id'])\n",
    "df.info()"
   ]
  },
  {
   "cell_type": "code",
   "execution_count": 3,
   "metadata": {},
   "outputs": [
    {
     "data": {
      "text/html": [
       "<div>\n",
       "<style scoped>\n",
       "    .dataframe tbody tr th:only-of-type {\n",
       "        vertical-align: middle;\n",
       "    }\n",
       "\n",
       "    .dataframe tbody tr th {\n",
       "        vertical-align: top;\n",
       "    }\n",
       "\n",
       "    .dataframe thead th {\n",
       "        text-align: right;\n",
       "    }\n",
       "</style>\n",
       "<table border=\"1\" class=\"dataframe\">\n",
       "  <thead>\n",
       "    <tr style=\"text-align: right;\">\n",
       "      <th></th>\n",
       "      <th>order_id</th>\n",
       "      <th>customer_id</th>\n",
       "      <th>order_status</th>\n",
       "      <th>order_purchase_timestamp</th>\n",
       "      <th>order_approved_at</th>\n",
       "      <th>order_delivered_carrier_date</th>\n",
       "      <th>order_delivered_customer_date</th>\n",
       "      <th>order_estimated_delivery_date</th>\n",
       "      <th>payment_sequential</th>\n",
       "      <th>payment_type</th>\n",
       "      <th>payment_installments</th>\n",
       "      <th>payment_value</th>\n",
       "      <th>customer_unique_id</th>\n",
       "      <th>customer_zip_code_prefix</th>\n",
       "      <th>customer_city</th>\n",
       "      <th>customer_state</th>\n",
       "      <th>review_id</th>\n",
       "      <th>review_score</th>\n",
       "      <th>review_comment_title</th>\n",
       "      <th>review_comment_message</th>\n",
       "      <th>review_creation_date</th>\n",
       "      <th>review_answer_timestamp</th>\n",
       "      <th>order_item_id</th>\n",
       "      <th>seller_id</th>\n",
       "      <th>product_id</th>\n",
       "      <th>shipping_limit_date</th>\n",
       "      <th>price</th>\n",
       "      <th>freight_value</th>\n",
       "      <th>product_category_name</th>\n",
       "      <th>product_name_lenght</th>\n",
       "      <th>product_description_lenght</th>\n",
       "      <th>product_photos_qty</th>\n",
       "      <th>product_weight_g</th>\n",
       "      <th>product_length_cm</th>\n",
       "      <th>product_height_cm</th>\n",
       "      <th>product_width_cm</th>\n",
       "    </tr>\n",
       "  </thead>\n",
       "  <tbody>\n",
       "    <tr>\n",
       "      <th>0</th>\n",
       "      <td>e481f51cbdc54678b7cc49136f2d6af7</td>\n",
       "      <td>9ef432eb6251297304e76186b10a928d</td>\n",
       "      <td>delivered</td>\n",
       "      <td>2017-10-02 10:56:33</td>\n",
       "      <td>2017-10-02 11:07:15</td>\n",
       "      <td>2017-10-04 19:55:00</td>\n",
       "      <td>2017-10-10 21:25:13</td>\n",
       "      <td>2017-10-18 00:00:00</td>\n",
       "      <td>1</td>\n",
       "      <td>credit_card</td>\n",
       "      <td>1</td>\n",
       "      <td>18.12</td>\n",
       "      <td>7c396fd4830fd04220f754e42b4e5bff</td>\n",
       "      <td>3149</td>\n",
       "      <td>sao paulo</td>\n",
       "      <td>SP</td>\n",
       "      <td>a54f0611adc9ed256b57ede6b6eb5114</td>\n",
       "      <td>4</td>\n",
       "      <td>O cliente não comentou</td>\n",
       "      <td>Não testei o produto ainda, mas ele veio corre...</td>\n",
       "      <td>2017-10-11 00:00:00</td>\n",
       "      <td>2017-10-12 03:43:48</td>\n",
       "      <td>1</td>\n",
       "      <td>3504c0cb71d7fa48d967e0e4c94d59d9</td>\n",
       "      <td>87285b34884572647811a353c7ac498a</td>\n",
       "      <td>2017-10-06 11:07:15</td>\n",
       "      <td>29.99</td>\n",
       "      <td>8.72</td>\n",
       "      <td>utilidades_domesticas</td>\n",
       "      <td>40</td>\n",
       "      <td>268</td>\n",
       "      <td>4</td>\n",
       "      <td>500</td>\n",
       "      <td>19</td>\n",
       "      <td>8</td>\n",
       "      <td>13</td>\n",
       "    </tr>\n",
       "    <tr>\n",
       "      <th>1</th>\n",
       "      <td>53cdb2fc8bc7dce0b6741e2150273451</td>\n",
       "      <td>b0830fb4747a6c6d20dea0b8c802d7ef</td>\n",
       "      <td>delivered</td>\n",
       "      <td>2018-07-24 20:41:37</td>\n",
       "      <td>2018-07-26 03:24:27</td>\n",
       "      <td>2018-07-26 14:31:00</td>\n",
       "      <td>2018-08-07 15:27:45</td>\n",
       "      <td>2018-08-13 00:00:00</td>\n",
       "      <td>1</td>\n",
       "      <td>boleto</td>\n",
       "      <td>1</td>\n",
       "      <td>141.46</td>\n",
       "      <td>af07308b275d755c9edb36a90c618231</td>\n",
       "      <td>47813</td>\n",
       "      <td>barreiras</td>\n",
       "      <td>BA</td>\n",
       "      <td>8d5266042046a06655c8db133d120ba5</td>\n",
       "      <td>4</td>\n",
       "      <td>Muito boa a loja</td>\n",
       "      <td>Muito bom o produto.</td>\n",
       "      <td>2018-08-08 00:00:00</td>\n",
       "      <td>2018-08-08 18:37:50</td>\n",
       "      <td>1</td>\n",
       "      <td>289cdb325fb7e7f891c38608bf9e0962</td>\n",
       "      <td>595fac2a385ac33a80bd5114aec74eb8</td>\n",
       "      <td>2018-07-30 03:24:27</td>\n",
       "      <td>118.70</td>\n",
       "      <td>22.76</td>\n",
       "      <td>perfumaria</td>\n",
       "      <td>29</td>\n",
       "      <td>178</td>\n",
       "      <td>1</td>\n",
       "      <td>400</td>\n",
       "      <td>19</td>\n",
       "      <td>13</td>\n",
       "      <td>19</td>\n",
       "    </tr>\n",
       "    <tr>\n",
       "      <th>2</th>\n",
       "      <td>47770eb9100c2d0c44946d9cf07ec65d</td>\n",
       "      <td>41ce2a54c0b03bf3443c3d931a367089</td>\n",
       "      <td>delivered</td>\n",
       "      <td>2018-08-08 08:38:49</td>\n",
       "      <td>2018-08-08 08:55:23</td>\n",
       "      <td>2018-08-08 13:50:00</td>\n",
       "      <td>2018-08-17 18:06:29</td>\n",
       "      <td>2018-09-04 00:00:00</td>\n",
       "      <td>1</td>\n",
       "      <td>credit_card</td>\n",
       "      <td>3</td>\n",
       "      <td>179.12</td>\n",
       "      <td>3a653a41f6f9fc3d2a113cf8398680e8</td>\n",
       "      <td>75265</td>\n",
       "      <td>vianopolis</td>\n",
       "      <td>GO</td>\n",
       "      <td>e73b67b67587f7644d5bd1a52deb1b01</td>\n",
       "      <td>5</td>\n",
       "      <td>O cliente não comentou</td>\n",
       "      <td>O cliente não comentou</td>\n",
       "      <td>2018-08-18 00:00:00</td>\n",
       "      <td>2018-08-22 19:07:58</td>\n",
       "      <td>1</td>\n",
       "      <td>4869f7a5dfa277a7dca6462dcf3b52b2</td>\n",
       "      <td>aa4383b373c6aca5d8797843e5594415</td>\n",
       "      <td>2018-08-13 08:55:23</td>\n",
       "      <td>159.90</td>\n",
       "      <td>19.22</td>\n",
       "      <td>automotivo</td>\n",
       "      <td>46</td>\n",
       "      <td>232</td>\n",
       "      <td>1</td>\n",
       "      <td>420</td>\n",
       "      <td>24</td>\n",
       "      <td>19</td>\n",
       "      <td>21</td>\n",
       "    </tr>\n",
       "    <tr>\n",
       "      <th>3</th>\n",
       "      <td>949d5b44dbf5de918fe9c16f97b45f8a</td>\n",
       "      <td>f88197465ea7920adcdbec7375364d82</td>\n",
       "      <td>delivered</td>\n",
       "      <td>2017-11-18 19:28:06</td>\n",
       "      <td>2017-11-18 19:45:59</td>\n",
       "      <td>2017-11-22 13:39:59</td>\n",
       "      <td>2017-12-02 00:28:42</td>\n",
       "      <td>2017-12-15 00:00:00</td>\n",
       "      <td>1</td>\n",
       "      <td>credit_card</td>\n",
       "      <td>1</td>\n",
       "      <td>72.20</td>\n",
       "      <td>7c142cf63193a1473d2e66489a9ae977</td>\n",
       "      <td>59296</td>\n",
       "      <td>sao goncalo do amarante</td>\n",
       "      <td>RN</td>\n",
       "      <td>359d03e676b3c069f62cadba8dd3f6e8</td>\n",
       "      <td>5</td>\n",
       "      <td>O cliente não comentou</td>\n",
       "      <td>O produto foi exatamente o que eu esperava e e...</td>\n",
       "      <td>2017-12-03 00:00:00</td>\n",
       "      <td>2017-12-05 19:21:58</td>\n",
       "      <td>1</td>\n",
       "      <td>66922902710d126a0e7d26b0e3805106</td>\n",
       "      <td>d0b61bfb1de832b15ba9d266ca96e5b0</td>\n",
       "      <td>2017-11-23 19:45:59</td>\n",
       "      <td>45.00</td>\n",
       "      <td>27.20</td>\n",
       "      <td>pet_shop</td>\n",
       "      <td>59</td>\n",
       "      <td>468</td>\n",
       "      <td>3</td>\n",
       "      <td>450</td>\n",
       "      <td>30</td>\n",
       "      <td>10</td>\n",
       "      <td>20</td>\n",
       "    </tr>\n",
       "    <tr>\n",
       "      <th>4</th>\n",
       "      <td>ad21c59c0840e6cb83a9ceb5573f8159</td>\n",
       "      <td>8ab97904e6daea8866dbdbc4fb7aad2c</td>\n",
       "      <td>delivered</td>\n",
       "      <td>2018-02-13 21:18:39</td>\n",
       "      <td>2018-02-13 22:20:29</td>\n",
       "      <td>2018-02-14 19:46:34</td>\n",
       "      <td>2018-02-16 18:17:02</td>\n",
       "      <td>2018-02-26 00:00:00</td>\n",
       "      <td>1</td>\n",
       "      <td>credit_card</td>\n",
       "      <td>1</td>\n",
       "      <td>28.62</td>\n",
       "      <td>72632f0f9dd73dfee390c9b22eb56dd6</td>\n",
       "      <td>9195</td>\n",
       "      <td>santo andre</td>\n",
       "      <td>SP</td>\n",
       "      <td>e50934924e227544ba8246aeb3770dd4</td>\n",
       "      <td>5</td>\n",
       "      <td>O cliente não comentou</td>\n",
       "      <td>O cliente não comentou</td>\n",
       "      <td>2018-02-17 00:00:00</td>\n",
       "      <td>2018-02-18 13:02:51</td>\n",
       "      <td>1</td>\n",
       "      <td>2c9e548be18521d1c43cde1c582c6de8</td>\n",
       "      <td>65266b2da20d04dbe00c5c2d3bb7859e</td>\n",
       "      <td>2018-02-19 20:31:37</td>\n",
       "      <td>19.90</td>\n",
       "      <td>8.72</td>\n",
       "      <td>papelaria</td>\n",
       "      <td>38</td>\n",
       "      <td>316</td>\n",
       "      <td>4</td>\n",
       "      <td>250</td>\n",
       "      <td>51</td>\n",
       "      <td>15</td>\n",
       "      <td>15</td>\n",
       "    </tr>\n",
       "  </tbody>\n",
       "</table>\n",
       "</div>"
      ],
      "text/plain": [
       "                           order_id                       customer_id  \\\n",
       "0  e481f51cbdc54678b7cc49136f2d6af7  9ef432eb6251297304e76186b10a928d   \n",
       "1  53cdb2fc8bc7dce0b6741e2150273451  b0830fb4747a6c6d20dea0b8c802d7ef   \n",
       "2  47770eb9100c2d0c44946d9cf07ec65d  41ce2a54c0b03bf3443c3d931a367089   \n",
       "3  949d5b44dbf5de918fe9c16f97b45f8a  f88197465ea7920adcdbec7375364d82   \n",
       "4  ad21c59c0840e6cb83a9ceb5573f8159  8ab97904e6daea8866dbdbc4fb7aad2c   \n",
       "\n",
       "  order_status order_purchase_timestamp    order_approved_at  \\\n",
       "0    delivered      2017-10-02 10:56:33  2017-10-02 11:07:15   \n",
       "1    delivered      2018-07-24 20:41:37  2018-07-26 03:24:27   \n",
       "2    delivered      2018-08-08 08:38:49  2018-08-08 08:55:23   \n",
       "3    delivered      2017-11-18 19:28:06  2017-11-18 19:45:59   \n",
       "4    delivered      2018-02-13 21:18:39  2018-02-13 22:20:29   \n",
       "\n",
       "  order_delivered_carrier_date order_delivered_customer_date  \\\n",
       "0          2017-10-04 19:55:00           2017-10-10 21:25:13   \n",
       "1          2018-07-26 14:31:00           2018-08-07 15:27:45   \n",
       "2          2018-08-08 13:50:00           2018-08-17 18:06:29   \n",
       "3          2017-11-22 13:39:59           2017-12-02 00:28:42   \n",
       "4          2018-02-14 19:46:34           2018-02-16 18:17:02   \n",
       "\n",
       "  order_estimated_delivery_date  payment_sequential payment_type  \\\n",
       "0           2017-10-18 00:00:00                   1  credit_card   \n",
       "1           2018-08-13 00:00:00                   1       boleto   \n",
       "2           2018-09-04 00:00:00                   1  credit_card   \n",
       "3           2017-12-15 00:00:00                   1  credit_card   \n",
       "4           2018-02-26 00:00:00                   1  credit_card   \n",
       "\n",
       "   payment_installments  payment_value                customer_unique_id  \\\n",
       "0                     1          18.12  7c396fd4830fd04220f754e42b4e5bff   \n",
       "1                     1         141.46  af07308b275d755c9edb36a90c618231   \n",
       "2                     3         179.12  3a653a41f6f9fc3d2a113cf8398680e8   \n",
       "3                     1          72.20  7c142cf63193a1473d2e66489a9ae977   \n",
       "4                     1          28.62  72632f0f9dd73dfee390c9b22eb56dd6   \n",
       "\n",
       "   customer_zip_code_prefix            customer_city customer_state  \\\n",
       "0                      3149                sao paulo             SP   \n",
       "1                     47813                barreiras             BA   \n",
       "2                     75265               vianopolis             GO   \n",
       "3                     59296  sao goncalo do amarante             RN   \n",
       "4                      9195              santo andre             SP   \n",
       "\n",
       "                          review_id  review_score    review_comment_title  \\\n",
       "0  a54f0611adc9ed256b57ede6b6eb5114             4  O cliente não comentou   \n",
       "1  8d5266042046a06655c8db133d120ba5             4        Muito boa a loja   \n",
       "2  e73b67b67587f7644d5bd1a52deb1b01             5  O cliente não comentou   \n",
       "3  359d03e676b3c069f62cadba8dd3f6e8             5  O cliente não comentou   \n",
       "4  e50934924e227544ba8246aeb3770dd4             5  O cliente não comentou   \n",
       "\n",
       "                              review_comment_message review_creation_date  \\\n",
       "0  Não testei o produto ainda, mas ele veio corre...  2017-10-11 00:00:00   \n",
       "1                               Muito bom o produto.  2018-08-08 00:00:00   \n",
       "2                             O cliente não comentou  2018-08-18 00:00:00   \n",
       "3  O produto foi exatamente o que eu esperava e e...  2017-12-03 00:00:00   \n",
       "4                             O cliente não comentou  2018-02-17 00:00:00   \n",
       "\n",
       "  review_answer_timestamp  order_item_id                         seller_id  \\\n",
       "0     2017-10-12 03:43:48              1  3504c0cb71d7fa48d967e0e4c94d59d9   \n",
       "1     2018-08-08 18:37:50              1  289cdb325fb7e7f891c38608bf9e0962   \n",
       "2     2018-08-22 19:07:58              1  4869f7a5dfa277a7dca6462dcf3b52b2   \n",
       "3     2017-12-05 19:21:58              1  66922902710d126a0e7d26b0e3805106   \n",
       "4     2018-02-18 13:02:51              1  2c9e548be18521d1c43cde1c582c6de8   \n",
       "\n",
       "                         product_id  shipping_limit_date   price  \\\n",
       "0  87285b34884572647811a353c7ac498a  2017-10-06 11:07:15   29.99   \n",
       "1  595fac2a385ac33a80bd5114aec74eb8  2018-07-30 03:24:27  118.70   \n",
       "2  aa4383b373c6aca5d8797843e5594415  2018-08-13 08:55:23  159.90   \n",
       "3  d0b61bfb1de832b15ba9d266ca96e5b0  2017-11-23 19:45:59   45.00   \n",
       "4  65266b2da20d04dbe00c5c2d3bb7859e  2018-02-19 20:31:37   19.90   \n",
       "\n",
       "   freight_value  product_category_name  product_name_lenght  \\\n",
       "0           8.72  utilidades_domesticas                   40   \n",
       "1          22.76             perfumaria                   29   \n",
       "2          19.22             automotivo                   46   \n",
       "3          27.20               pet_shop                   59   \n",
       "4           8.72              papelaria                   38   \n",
       "\n",
       "   product_description_lenght  product_photos_qty  product_weight_g  \\\n",
       "0                         268                   4               500   \n",
       "1                         178                   1               400   \n",
       "2                         232                   1               420   \n",
       "3                         468                   3               450   \n",
       "4                         316                   4               250   \n",
       "\n",
       "   product_length_cm  product_height_cm  product_width_cm  \n",
       "0                 19                  8                13  \n",
       "1                 19                 13                19  \n",
       "2                 24                 19                21  \n",
       "3                 30                 10                20  \n",
       "4                 51                 15                15  "
      ]
     },
     "execution_count": 3,
     "metadata": {},
     "output_type": "execute_result"
    }
   ],
   "source": [
    "pd.set_option('display.max_columns', 500)\n",
    "df.head()"
   ]
  },
  {
   "cell_type": "markdown",
   "metadata": {},
   "source": [
    "## Customer behavior\n",
    "As a premilinary analysis, we provide basic statistics on the customer purchasing behavior"
   ]
  },
  {
   "cell_type": "markdown",
   "metadata": {},
   "source": [
    "Number of items purchased at each order"
   ]
  },
  {
   "cell_type": "code",
   "execution_count": 4,
   "metadata": {},
   "outputs": [
    {
     "data": {
      "text/plain": [
       "Text(0,0.5,'Counts')"
      ]
     },
     "execution_count": 4,
     "metadata": {},
     "output_type": "execute_result"
    },
    {
     "data": {
      "image/png": "[encoded data removed]",
      "text/plain": [
       "<Figure size 576x288 with 1 Axes>"
      ]
     },
     "metadata": {
      "needs_background": "light"
     },
     "output_type": "display_data"
    }
   ],
   "source": [
    "\n",
    "fig = plt.figure(figsize=(8,4))\n",
    "df.order_item_id.value_counts().plot.bar()\n",
    "plt.xlabel('Number of items')\n",
    "plt.ylabel('Counts')\n",
    "\n",
    "#plt.savefig('Counts_Items.eps',bbox_inches = 'tight')\n"
   ]
  },
  {
   "cell_type": "markdown",
   "metadata": {},
   "source": [
    "Histogram on average payment (including freight), we discard outliers in the plot for a better representation."
   ]
  },
  {
   "cell_type": "code",
   "execution_count": 5,
   "metadata": {},
   "outputs": [
    {
     "data": {
      "text/plain": [
       "Text(0,0.5,'Counts')"
      ]
     },
     "execution_count": 5,
     "metadata": {},
     "output_type": "execute_result"
    },
    {
     "data": {
      "image/png": "[encoded data removed]",
      "text/plain": [
       "<Figure size 576x288 with 1 Axes>"
      ]
     },
     "metadata": {
      "needs_background": "light"
     },
     "output_type": "display_data"
    }
   ],
   "source": [
    "plt.figure(figsize=(8,4))\n",
    "sns.distplot(df['price'],kde=False,bins=500,color='r')\n",
    "plt.xlim([0,1000])\n",
    "plt.xlabel('Payment value')\n",
    "plt.ylabel('Counts')\n",
    "#plt.savefig('Counts_paymentvalue.eps',bbox_inches = 'tight')"
   ]
  },
  {
   "cell_type": "code",
   "execution_count": 6,
   "metadata": {},
   "outputs": [
    {
     "name": "stdout",
     "output_type": "stream",
     "text": [
      "The median price is 86.5\n",
      "The mean price is 137.29137564080685\n"
     ]
    }
   ],
   "source": [
    "print('The median price is {}'.format((np.median(df['price']))))\n",
    "print('The mean price is {}'.format((np.mean(df['price']))))"
   ]
  },
  {
   "cell_type": "code",
   "execution_count": 7,
   "metadata": {},
   "outputs": [
    {
     "data": {
      "text/plain": [
       "Text(0,0.5,'Counts')"
      ]
     },
     "execution_count": 7,
     "metadata": {},
     "output_type": "execute_result"
    },
    {
     "data": {
      "image/png": "[encoded data removed]",
      "text/plain": [
       "<Figure size 576x288 with 1 Axes>"
      ]
     },
     "metadata": {
      "needs_background": "light"
     },
     "output_type": "display_data"
    }
   ],
   "source": [
    "plt.figure(figsize=(8,4))\n",
    "sns.distplot(df['freight_value'],kde=False,bins=500,color='g')\n",
    "plt.xlim([0,100])\n",
    "plt.xlabel('Freight value')\n",
    "plt.ylabel('Counts')\n",
    "#plt.savefig('Counts_freight.eps',bbox_inches = 'tight')"
   ]
  },
  {
   "cell_type": "code",
   "execution_count": 8,
   "metadata": {},
   "outputs": [
    {
     "data": {
      "text/plain": [
       "13664.08"
      ]
     },
     "execution_count": 8,
     "metadata": {},
     "output_type": "execute_result"
    }
   ],
   "source": [
    "np.max(df['payment_value'])"
   ]
  },
  {
   "cell_type": "markdown",
   "metadata": {},
   "source": [
    "Customer origin"
   ]
  },
  {
   "cell_type": "code",
   "execution_count": 9,
   "metadata": {},
   "outputs": [
    {
     "data": {
      "text/plain": [
       "Text(0,0.5,'Order counts')"
      ]
     },
     "execution_count": 9,
     "metadata": {},
     "output_type": "execute_result"
    },
    {
     "data": {
      "image/png": "[encoded data removed]",
      "text/plain": [
       "<Figure size 576x288 with 1 Axes>"
      ]
     },
     "metadata": {
      "needs_background": "light"
     },
     "output_type": "display_data"
    }
   ],
   "source": [
    "plt.figure(figsize=(8,4))\n",
    "sns.countplot(x = 'customer_state', data = df,order = df['customer_state'].value_counts().index, palette = \"coolwarm\")\n",
    "plt.ylabel('Order counts')\n",
    "#plt.savefig('Ordercounts_state.eps',bbox_inches = 'tight')"
   ]
  },
  {
   "cell_type": "code",
   "execution_count": 10,
   "metadata": {},
   "outputs": [
    {
     "data": {
      "text/plain": [
       "<matplotlib.axes._subplots.AxesSubplot at 0x1edc0a049b0>"
      ]
     },
     "execution_count": 10,
     "metadata": {},
     "output_type": "execute_result"
    },
    {
     "data": {
      "image/png": "[encoded data removed]",
      "text/plain": [
       "<Figure size 576x288 with 1 Axes>"
      ]
     },
     "metadata": {
      "needs_background": "light"
     },
     "output_type": "display_data"
    }
   ],
   "source": [
    "plt.figure(figsize=(8,4))\n",
    "sns.barplot(x = 'customer_state',y='price',data = df, order = df.groupby('customer_state').agg({'price':'mean'}).sort_values('price',ascending = False).index, palette= \"coolwarm\")\n",
    "#plt.savefig('Orderprice_state.eps',bbox_inches = 'tight')"
   ]
  },
  {
   "cell_type": "code",
   "execution_count": 11,
   "metadata": {},
   "outputs": [
    {
     "data": {
      "text/plain": [
       "14"
      ]
     },
     "execution_count": 11,
     "metadata": {},
     "output_type": "execute_result"
    }
   ],
   "source": [
    "order_by_customers = df.customer_unique_id.value_counts().to_frame()\n",
    "np.max(order_by_customers['customer_unique_id'])"
   ]
  },
  {
   "cell_type": "code",
   "execution_count": 12,
   "metadata": {},
   "outputs": [
    {
     "data": {
      "text/plain": [
       "Text(0,0.5,'Counts')"
      ]
     },
     "execution_count": 12,
     "metadata": {},
     "output_type": "execute_result"
    },
    {
     "data": {
      "image/png": "[encoded data removed]",
      "text/plain": [
       "<Figure size 576x288 with 1 Axes>"
      ]
     },
     "metadata": {
      "needs_background": "light"
     },
     "output_type": "display_data"
    }
   ],
   "source": [
    "plt.figure(figsize=(8,4))\n",
    "sns.distplot(order_by_customers['customer_unique_id'],kde=False,color = 'r')\n",
    "plt.xticks(np.arange(1,16))\n",
    "plt.xlabel('Number of orders')\n",
    "plt.ylabel('Counts')\n",
    "#plt.savefig('customer_orders.eps',bbox_inches = 'tight')"
   ]
  },
  {
   "cell_type": "markdown",
   "metadata": {},
   "source": [
    "# Review statistics"
   ]
  },
  {
   "cell_type": "markdown",
   "metadata": {},
   "source": [
    "Counts of review score"
   ]
  },
  {
   "cell_type": "code",
   "execution_count": 13,
   "metadata": {},
   "outputs": [
    {
     "data": {
      "text/plain": [
       "Text(0,0.5,'%')"
      ]
     },
     "execution_count": 13,
     "metadata": {},
     "output_type": "execute_result"
    },
    {
     "data": {
      "image/png": "[encoded data removed]",
      "text/plain": [
       "<Figure size 432x288 with 1 Axes>"
      ]
     },
     "metadata": {
      "needs_background": "light"
     },
     "output_type": "display_data"
    }
   ],
   "source": [
    "review_counts = df['review_score'].value_counts().to_frame().reset_index()\n",
    "review_counts['score'] = review_counts['index']\n",
    "review_counts['review_percentage'] = review_counts['review_score']/sum(review_counts['review_score'])*100\n",
    "sns.barplot(x='score',y='review_percentage',data=review_counts,palette = \"coolwarm\")\n",
    "plt.xlabel('Review score')\n",
    "plt.ylabel('%')\n",
    "#plt.savefig('review_score.eps')"
   ]
  },
  {
   "cell_type": "code",
   "execution_count": 14,
   "metadata": {},
   "outputs": [
    {
     "data": {
      "text/html": [
       "<div>\n",
       "<style scoped>\n",
       "    .dataframe tbody tr th:only-of-type {\n",
       "        vertical-align: middle;\n",
       "    }\n",
       "\n",
       "    .dataframe tbody tr th {\n",
       "        vertical-align: top;\n",
       "    }\n",
       "\n",
       "    .dataframe thead th {\n",
       "        text-align: right;\n",
       "    }\n",
       "</style>\n",
       "<table border=\"1\" class=\"dataframe\">\n",
       "  <thead>\n",
       "    <tr style=\"text-align: right;\">\n",
       "      <th></th>\n",
       "      <th>customer_state</th>\n",
       "      <th>review_score</th>\n",
       "    </tr>\n",
       "  </thead>\n",
       "  <tbody>\n",
       "    <tr>\n",
       "      <th>25</th>\n",
       "      <td>SP</td>\n",
       "      <td>4.238985</td>\n",
       "    </tr>\n",
       "    <tr>\n",
       "      <th>2</th>\n",
       "      <td>AM</td>\n",
       "      <td>4.237762</td>\n",
       "    </tr>\n",
       "    <tr>\n",
       "      <th>17</th>\n",
       "      <td>PR</td>\n",
       "      <td>4.232568</td>\n",
       "    </tr>\n",
       "    <tr>\n",
       "      <th>3</th>\n",
       "      <td>AP</td>\n",
       "      <td>4.223881</td>\n",
       "    </tr>\n",
       "    <tr>\n",
       "      <th>22</th>\n",
       "      <td>RS</td>\n",
       "      <td>4.182687</td>\n",
       "    </tr>\n",
       "    <tr>\n",
       "      <th>10</th>\n",
       "      <td>MG</td>\n",
       "      <td>4.180404</td>\n",
       "    </tr>\n",
       "    <tr>\n",
       "      <th>20</th>\n",
       "      <td>RO</td>\n",
       "      <td>4.178723</td>\n",
       "    </tr>\n",
       "    <tr>\n",
       "      <th>26</th>\n",
       "      <td>TO</td>\n",
       "      <td>4.159851</td>\n",
       "    </tr>\n",
       "    <tr>\n",
       "      <th>11</th>\n",
       "      <td>MS</td>\n",
       "      <td>4.156749</td>\n",
       "    </tr>\n",
       "    <tr>\n",
       "      <th>12</th>\n",
       "      <td>MT</td>\n",
       "      <td>4.139241</td>\n",
       "    </tr>\n",
       "    <tr>\n",
       "      <th>19</th>\n",
       "      <td>RN</td>\n",
       "      <td>4.126609</td>\n",
       "    </tr>\n",
       "    <tr>\n",
       "      <th>23</th>\n",
       "      <td>SC</td>\n",
       "      <td>4.125864</td>\n",
       "    </tr>\n",
       "    <tr>\n",
       "      <th>6</th>\n",
       "      <td>DF</td>\n",
       "      <td>4.124693</td>\n",
       "    </tr>\n",
       "    <tr>\n",
       "      <th>0</th>\n",
       "      <td>AC</td>\n",
       "      <td>4.090909</td>\n",
       "    </tr>\n",
       "    <tr>\n",
       "      <th>8</th>\n",
       "      <td>GO</td>\n",
       "      <td>4.090574</td>\n",
       "    </tr>\n",
       "    <tr>\n",
       "      <th>15</th>\n",
       "      <td>PE</td>\n",
       "      <td>4.072565</td>\n",
       "    </tr>\n",
       "    <tr>\n",
       "      <th>7</th>\n",
       "      <td>ES</td>\n",
       "      <td>4.051724</td>\n",
       "    </tr>\n",
       "    <tr>\n",
       "      <th>14</th>\n",
       "      <td>PB</td>\n",
       "      <td>4.047244</td>\n",
       "    </tr>\n",
       "    <tr>\n",
       "      <th>16</th>\n",
       "      <td>PI</td>\n",
       "      <td>3.976496</td>\n",
       "    </tr>\n",
       "    <tr>\n",
       "      <th>18</th>\n",
       "      <td>RJ</td>\n",
       "      <td>3.950831</td>\n",
       "    </tr>\n",
       "    <tr>\n",
       "      <th>5</th>\n",
       "      <td>CE</td>\n",
       "      <td>3.947702</td>\n",
       "    </tr>\n",
       "    <tr>\n",
       "      <th>4</th>\n",
       "      <td>BA</td>\n",
       "      <td>3.916302</td>\n",
       "    </tr>\n",
       "    <tr>\n",
       "      <th>21</th>\n",
       "      <td>RR</td>\n",
       "      <td>3.897436</td>\n",
       "    </tr>\n",
       "    <tr>\n",
       "      <th>13</th>\n",
       "      <td>PA</td>\n",
       "      <td>3.892625</td>\n",
       "    </tr>\n",
       "    <tr>\n",
       "      <th>24</th>\n",
       "      <td>SE</td>\n",
       "      <td>3.884848</td>\n",
       "    </tr>\n",
       "    <tr>\n",
       "      <th>1</th>\n",
       "      <td>AL</td>\n",
       "      <td>3.841432</td>\n",
       "    </tr>\n",
       "    <tr>\n",
       "      <th>9</th>\n",
       "      <td>MA</td>\n",
       "      <td>3.806268</td>\n",
       "    </tr>\n",
       "  </tbody>\n",
       "</table>\n",
       "</div>"
      ],
      "text/plain": [
       "   customer_state  review_score\n",
       "25             SP      4.238985\n",
       "2              AM      4.237762\n",
       "17             PR      4.232568\n",
       "3              AP      4.223881\n",
       "22             RS      4.182687\n",
       "10             MG      4.180404\n",
       "20             RO      4.178723\n",
       "26             TO      4.159851\n",
       "11             MS      4.156749\n",
       "12             MT      4.139241\n",
       "19             RN      4.126609\n",
       "23             SC      4.125864\n",
       "6              DF      4.124693\n",
       "0              AC      4.090909\n",
       "8              GO      4.090574\n",
       "15             PE      4.072565\n",
       "7              ES      4.051724\n",
       "14             PB      4.047244\n",
       "16             PI      3.976496\n",
       "18             RJ      3.950831\n",
       "5              CE      3.947702\n",
       "4              BA      3.916302\n",
       "21             RR      3.897436\n",
       "13             PA      3.892625\n",
       "24             SE      3.884848\n",
       "1              AL      3.841432\n",
       "9              MA      3.806268"
      ]
     },
     "execution_count": 14,
     "metadata": {},
     "output_type": "execute_result"
    }
   ],
   "source": [
    "df.groupby('customer_state').agg({'review_score': 'mean'}).reset_index().sort_values('review_score',ascending = False)\n"
   ]
  },
  {
   "cell_type": "markdown",
   "metadata": {},
   "source": [
    "Average review by state"
   ]
  },
  {
   "cell_type": "code",
   "execution_count": 15,
   "metadata": {},
   "outputs": [
    {
     "data": {
      "text/plain": [
       "<matplotlib.axes._subplots.AxesSubplot at 0x1edc0ed9668>"
      ]
     },
     "execution_count": 15,
     "metadata": {},
     "output_type": "execute_result"
    },
    {
     "data": {
      "image/png": "[encoded data removed]",
      "text/plain": [
       "<Figure size 576x288 with 1 Axes>"
      ]
     },
     "metadata": {
      "needs_background": "light"
     },
     "output_type": "display_data"
    }
   ],
   "source": [
    "plt.figure(figsize=(8,4))\n",
    "sns.barplot(x = 'customer_state', y = 'review_score', data = df, order = df.groupby('customer_state').agg({'review_score':'mean'}).sort_values('review_score',ascending = False).index, palette = \"coolwarm\")\n",
    "#plt.savefig('review_score_state.eps')"
   ]
  },
  {
   "cell_type": "markdown",
   "metadata": {},
   "source": [
    "# Review analysis\n",
    "In this part, we use ML techniques to determine what factors are affecting the most review scores.\n"
   ]
  },
  {
   "cell_type": "markdown",
   "metadata": {},
   "source": [
    "We create new features that will can have an effect on the review score\n",
    "- The estimated and real delivery time\n",
    "- The delay in days (if order arrives in advance, it is just zero delays)\n",
    "- A binary for review received before delivery. If the review has been received before the delivery: 1 otherwise: 0\n",
    "- A binary for lateness. If the delivery is delayed: 1 otherwise:0 \n",
    "- The freight ratio = freight_value/payment_value\n"
   ]
  },
  {
   "cell_type": "code",
   "execution_count": 16,
   "metadata": {},
   "outputs": [],
   "source": [
    "df['order_estimated_delivery_date'] = pd.to_datetime(df['order_estimated_delivery_date'])\n",
    "df['order_delivered_customer_date'] = pd.to_datetime(df['order_delivered_customer_date'])\n",
    "df['order_approved_at'] = pd.to_datetime(df['order_approved_at'])\n",
    "df['review_creation_date'] = pd.to_datetime(df['review_creation_date'])\n",
    "df['review_answer_timestamp'] = pd.to_datetime(df['review_answer_timestamp'])\n",
    "df['order_purchase_timestamp'] = pd.to_datetime(df['order_purchase_timestamp'])\n",
    "\n",
    "df['estimated_delivery_time'] = (df['order_estimated_delivery_date']-df['order_approved_at']).dt.days.astype('timedelta64[D]')\n",
    "df['real_delivery_time'] = (df['order_delivered_customer_date']-df['order_approved_at']).dt.days.astype('timedelta64[D]')\n",
    "df['delay'] = (df['order_delivered_customer_date']-df['order_estimated_delivery_date']).dt.days.astype('timedelta64[D]')\n",
    "df['review_before_delivery'] = (df['order_delivered_customer_date']-df['review_answer_timestamp']).dt.days.astype('timedelta64[D]')\n",
    "\n",
    "df['estimated_delivery_time'] = (df['estimated_delivery_time']/np.timedelta64(1, 'D')).astype(int)\n",
    "df['real_delivery_time'] = (df['real_delivery_time']/np.timedelta64(1, 'D')).astype(int)\n",
    "df['delay'] = (df['delay']/np.timedelta64(1, 'D')).astype(int)\n",
    "df['review_before_delivery'] = (df['review_before_delivery']/np.timedelta64(1, 'D')).astype(int)\n",
    "\n",
    "df['delay'] = df['delay'].apply(lambda x: x if x>0 else 0)\n",
    "df['review_before_delivery'] = df['review_before_delivery'].apply(lambda x: 1 if x>0 else 0)\n",
    "df['late'] = df['delay'].apply(lambda x: 1 if x>0 else 0)\n",
    "df['freight_ratio'] = df['freight_value']/df['price']"
   ]
  },
  {
   "cell_type": "code",
   "execution_count": 17,
   "metadata": {},
   "outputs": [
    {
     "data": {
      "text/plain": [
       "order_id                                          dcb36b511fcac050b97cd5c05de84dc3\n",
       "customer_id                                       3b6828a50ffe546942b7a473d70ac0fc\n",
       "order_status                                                             delivered\n",
       "order_purchase_timestamp                                       2018-06-07 19:03:12\n",
       "order_approved_at                                              2018-06-12 23:31:02\n",
       "order_delivered_carrier_date                                   2018-06-11 14:54:00\n",
       "order_delivered_customer_date                                  2018-06-21 15:34:32\n",
       "order_estimated_delivery_date                                  2018-07-04 00:00:00\n",
       "payment_sequential                                                               1\n",
       "payment_type                                                           credit_card\n",
       "payment_installments                                                            10\n",
       "payment_value                                                               146.45\n",
       "customer_unique_id                                ccafc1c3f270410521c3c6f3b249870f\n",
       "customer_zip_code_prefix                                                     74820\n",
       "customer_city                                                              goiania\n",
       "customer_state                                                                  GO\n",
       "review_id                                         5a8608437f4b52bec5cd143f37258b5e\n",
       "review_score                                                                     5\n",
       "review_comment_title                                                      Nota dez\n",
       "review_comment_message           Obrigado pela atenção. Lojas lannister perfeit...\n",
       "review_creation_date                                           2018-07-03 00:00:00\n",
       "review_answer_timestamp                                        2018-07-03 15:10:07\n",
       "order_item_id                                                                    1\n",
       "seller_id                                         89a51f50b8095ea78d5768f34c13a76f\n",
       "product_id                                        009c09f439988bc06a93d6b8186dce73\n",
       "shipping_limit_date                                            2018-06-18 18:59:02\n",
       "price                                                                        132.4\n",
       "freight_value                                                                14.05\n",
       "product_category_name                                                   perfumaria\n",
       "product_name_lenght                                                             39\n",
       "product_description_lenght                                                     991\n",
       "product_photos_qty                                                               3\n",
       "product_weight_g                                                               150\n",
       "product_length_cm                                                               20\n",
       "product_height_cm                                                               20\n",
       "product_width_cm                                                                20\n",
       "estimated_delivery_time                                                         21\n",
       "real_delivery_time                                                               8\n",
       "delay                                                                            0\n",
       "review_before_delivery                                                           0\n",
       "late                                                                             0\n",
       "freight_ratio                                                             0.106118\n",
       "Name: 14, dtype: object"
      ]
     },
     "execution_count": 17,
     "metadata": {},
     "output_type": "execute_result"
    }
   ],
   "source": [
    "pd.set_option('display.max_columns', 50)\n",
    "df.iloc[14]"
   ]
  },
  {
   "cell_type": "markdown",
   "metadata": {},
   "source": [
    "Distribution of real and estimated delivery times"
   ]
  },
  {
   "cell_type": "code",
   "execution_count": 18,
   "metadata": {},
   "outputs": [
    {
     "data": {
      "text/plain": [
       "(-10, 150)"
      ]
     },
     "execution_count": 18,
     "metadata": {},
     "output_type": "execute_result"
    },
    {
     "data": {
      "image/png": "[encoded data removed]",
      "text/plain": [
       "<Figure size 720x360 with 1 Axes>"
      ]
     },
     "metadata": {
      "needs_background": "light"
     },
     "output_type": "display_data"
    }
   ],
   "source": [
    "plt.figure(figsize=(10,5))\n",
    "sns.distplot(df['real_delivery_time'],label='Actual')\n",
    "sns.distplot(df['estimated_delivery_time'],label='Estimated')\n",
    "plt.xlabel('Estimated and real delivery time histograms')\n",
    "plt.legend()\n",
    "plt.xlim([-10,150])\n",
    "#plt.savefig('histo_real_est.eps')"
   ]
  },
  {
   "cell_type": "markdown",
   "metadata": {},
   "source": [
    "Boxplot of delay"
   ]
  },
  {
   "cell_type": "code",
   "execution_count": 19,
   "metadata": {},
   "outputs": [
    {
     "data": {
      "image/png": "[encoded data removed]",
      "text/plain": [
       "<Figure size 432x288 with 1 Axes>"
      ]
     },
     "metadata": {
      "needs_background": "light"
     },
     "output_type": "display_data"
    }
   ],
   "source": [
    "late_deliveries = df[df['delay']>0]\n",
    "sns.boxplot(y='delay', data=late_deliveries)\n",
    "plt.title('Late deliveries Delays (days)')\n",
    "title = 'Average delay = {}'.format(np.mean(late_deliveries['delay']))\n",
    "plt.title(title, size = 15);\n",
    "#plt.savefig('delay_distr.eps')\n",
    "plt.show()"
   ]
  },
  {
   "cell_type": "markdown",
   "metadata": {},
   "source": [
    "Lateness frequency"
   ]
  },
  {
   "cell_type": "code",
   "execution_count": 20,
   "metadata": {},
   "outputs": [
    {
     "data": {
      "text/plain": [
       "<matplotlib.axes._subplots.AxesSubplot at 0x1edc12376a0>"
      ]
     },
     "execution_count": 20,
     "metadata": {},
     "output_type": "execute_result"
    },
    {
     "data": {
      "image/png": "[encoded data removed]",
      "text/plain": [
       "<Figure size 360x360 with 1 Axes>"
      ]
     },
     "metadata": {
      "needs_background": "light"
     },
     "output_type": "display_data"
    }
   ],
   "source": [
    "plt.figure(figsize=(5,5))\n",
    "sns.countplot(x='late', data = df)\n",
    "#plt.savefig('late_freq.eps')"
   ]
  },
  {
   "cell_type": "code",
   "execution_count": 21,
   "metadata": {},
   "outputs": [
    {
     "name": "stdout",
     "output_type": "stream",
     "text": [
      "Late delivery frequency =  0.06769881109643329\n"
     ]
    }
   ],
   "source": [
    "print('Late delivery frequency =  {}'.format(np.mean(df['late'])))"
   ]
  },
  {
   "cell_type": "markdown",
   "metadata": {},
   "source": [
    "Review survey fulfilled before delivery"
   ]
  },
  {
   "cell_type": "code",
   "execution_count": 22,
   "metadata": {},
   "outputs": [
    {
     "data": {
      "text/plain": [
       "<matplotlib.axes._subplots.AxesSubplot at 0x1edc1285668>"
      ]
     },
     "execution_count": 22,
     "metadata": {},
     "output_type": "execute_result"
    },
    {
     "data": {
      "image/png": "[encoded data removed]",
      "text/plain": [
       "<Figure size 360x360 with 1 Axes>"
      ]
     },
     "metadata": {
      "needs_background": "light"
     },
     "output_type": "display_data"
    }
   ],
   "source": [
    "plt.figure(figsize=(5,5))\n",
    "sns.countplot(x='review_before_delivery', data = df)\n",
    "#plt.savefig('review_before_delivery.eps')"
   ]
  },
  {
   "cell_type": "markdown",
   "metadata": {},
   "source": [
    "Late freq. by state"
   ]
  },
  {
   "cell_type": "code",
   "execution_count": 23,
   "metadata": {},
   "outputs": [
    {
     "data": {
      "text/plain": [
       "Text(0,0.5,'Late delivery frequency')"
      ]
     },
     "execution_count": 23,
     "metadata": {},
     "output_type": "execute_result"
    },
    {
     "data": {
      "image/png": "[encoded data removed]",
      "text/plain": [
       "<Figure size 576x288 with 1 Axes>"
      ]
     },
     "metadata": {
      "needs_background": "light"
     },
     "output_type": "display_data"
    }
   ],
   "source": [
    "plt.figure(figsize=(8,4))\n",
    "sns.barplot(x = 'customer_state', y='late', data = df, \n",
    "            order = df.groupby('customer_state').agg({'late':'mean'}).sort_values('late', ascending = False).index,ci = None,palette = \"coolwarm\")\n",
    "plt.ylabel('Late delivery frequency')\n",
    "#plt.savefig('late_state.eps')"
   ]
  },
  {
   "cell_type": "markdown",
   "metadata": {},
   "source": [
    "Effect of lateness on review score "
   ]
  },
  {
   "cell_type": "code",
   "execution_count": 24,
   "metadata": {},
   "outputs": [
    {
     "data": {
      "text/plain": [
       "<seaborn.axisgrid.FacetGrid at 0x1edc12d4048>"
      ]
     },
     "execution_count": 24,
     "metadata": {},
     "output_type": "execute_result"
    },
    {
     "data": {
      "text/plain": [
       "<Figure size 576x288 with 0 Axes>"
      ]
     },
     "metadata": {},
     "output_type": "display_data"
    },
    {
     "data": {
      "image/png": "[encoded data removed]",
      "text/plain": [
       "<Figure size 360x360 with 1 Axes>"
      ]
     },
     "metadata": {
      "needs_background": "light"
     },
     "output_type": "display_data"
    }
   ],
   "source": [
    "plt.figure(figsize=(8,4))\n",
    "sns.catplot(x = 'review_before_delivery', y = 'review_score', data = df,kind=\"bar\")\n",
    "#plt.savefig('influence_review_early.eps')"
   ]
  },
  {
   "cell_type": "code",
   "execution_count": 25,
   "metadata": {},
   "outputs": [
    {
     "data": {
      "text/plain": [
       "Text(0,0.5,'Average review score')"
      ]
     },
     "execution_count": 25,
     "metadata": {},
     "output_type": "execute_result"
    },
    {
     "data": {
      "image/png": "[encoded data removed]",
      "text/plain": [
       "<Figure size 432x288 with 1 Axes>"
      ]
     },
     "metadata": {
      "needs_background": "light"
     },
     "output_type": "display_data"
    }
   ],
   "source": [
    "state_late_delivery_freq = df.groupby('customer_state').agg({'late':'mean'}).reset_index()\n",
    "state_review_score       = df.groupby('customer_state').agg({'review_score':'mean'}).reset_index()\n",
    "df_state_review = state_late_delivery_freq.merge(state_review_score, how = 'inner', on = 'customer_state')\n",
    "corr = np.corrcoef(df_state_review.review_score,df_state_review.late)[0,1]\n",
    "plt.figure(figsize=(6,4))\n",
    "p1 = sns.regplot(x='late',y='review_score',data = df_state_review, color=\"r\", marker=\".\",scatter_kws={'s':100},fit_reg=False)\n",
    "\n",
    "for line in range(0,df_state_review.shape[0]):\n",
    "     p1.text(df_state_review.late[line], df_state_review.review_score[line], df_state_review.customer_state[line], \n",
    "             horizontalalignment='left', size='medium', color='black', weight='semibold')\n",
    "\n",
    "\n",
    "\n",
    "\n",
    "plt.title('Correlation :{0}'.format(corr), size = 12)\n",
    "plt.xlabel('Late delivery frequency')\n",
    "plt.ylabel('Average review score')\n",
    "#plt.savefig('regression_late_review.eps')"
   ]
  },
  {
   "cell_type": "markdown",
   "metadata": {},
   "source": [
    "state_review_score"
   ]
  },
  {
   "cell_type": "markdown",
   "metadata": {},
   "source": [
    "We pick the orders in the dataset that have been delivered"
   ]
  },
  {
   "cell_type": "code",
   "execution_count": 26,
   "metadata": {},
   "outputs": [],
   "source": [
    "df_delivered = df[df['order_status']=='delivered']\n"
   ]
  },
  {
   "cell_type": "code",
   "execution_count": 27,
   "metadata": {},
   "outputs": [
    {
     "data": {
      "text/plain": [
       "94619"
      ]
     },
     "execution_count": 27,
     "metadata": {},
     "output_type": "execute_result"
    }
   ],
   "source": [
    "len(df_delivered)"
   ]
  },
  {
   "cell_type": "code",
   "execution_count": 28,
   "metadata": {},
   "outputs": [
    {
     "data": {
      "text/plain": [
       "(array([ 0,  1,  2,  3,  4,  5,  6,  7,  8,  9, 10, 11, 12, 13, 14, 15, 16,\n",
       "        17, 18, 19, 20, 21, 22, 23, 24, 25, 26, 27, 28, 29, 30, 31, 32, 33,\n",
       "        34, 35, 36, 37, 38, 39, 40, 41, 42, 43, 44, 45, 46, 47, 48, 49, 50,\n",
       "        51, 52, 53, 54, 55, 56, 57, 58, 59, 60, 61, 62, 63, 64, 65, 66, 67,\n",
       "        68, 69, 70, 71, 72]), <a list of 73 Text xticklabel objects>)"
      ]
     },
     "execution_count": 28,
     "metadata": {},
     "output_type": "execute_result"
    },
    {
     "data": {
      "image/png": "[encoded data removed]",
      "text/plain": [
       "<Figure size 1080x288 with 1 Axes>"
      ]
     },
     "metadata": {
      "needs_background": "light"
     },
     "output_type": "display_data"
    }
   ],
   "source": [
    "plt.figure(figsize=(15,4))\n",
    "\n",
    "sns.barplot(x = 'product_category_name',y='review_score',data=df_delivered,\n",
    "            order = df_delivered.groupby('product_category_name').agg({'review_score':'mean'}).sort_values('review_score').index)\n",
    "plt.xticks(rotation =90)\n",
    "#plt.savefig('review_category.eps',bbox_inches = 'tight')"
   ]
  },
  {
   "cell_type": "markdown",
   "metadata": {},
   "source": [
    "We remove irrelevant features, for now we focus only on review scores"
   ]
  },
  {
   "cell_type": "code",
   "execution_count": 29,
   "metadata": {},
   "outputs": [],
   "source": [
    "df_cs = df_delivered.drop(columns=['order_id','customer_id','order_status','order_purchase_timestamp','order_approved_at', 'product_category_name',\n",
    "                                           'order_delivered_carrier_date','order_delivered_customer_date','order_estimated_delivery_date','payment_sequential',\n",
    "                                          'payment_type','payment_installments','customer_unique_id','customer_zip_code_prefix','customer_city','customer_state',\n",
    "                                   'review_id','review_comment_title','review_comment_message','review_creation_date','review_answer_timestamp','shipping_limit_date','seller_id','product_id'])"
   ]
  },
  {
   "cell_type": "code",
   "execution_count": 30,
   "metadata": {},
   "outputs": [],
   "source": [
    "#df_cs= pd.concat([df_cs[df_cs['review_score'] == 5], df_cs[df_cs['review_score'] == 1]])\n",
    "\n",
    "df_cs['simplified_review_score'] = df_cs['review_score'].apply(lambda x: 1 if (x==5 or x==4) else 0)\n",
    "#df_cs.loc[df_cs.review_score == 3, 'simplified_review_score'] = 1"
   ]
  },
  {
   "cell_type": "code",
   "execution_count": 31,
   "metadata": {},
   "outputs": [],
   "source": [
    "df_cs.dropna(how = 'any', inplace = True)"
   ]
  },
  {
   "cell_type": "code",
   "execution_count": 32,
   "metadata": {},
   "outputs": [
    {
     "data": {
      "text/plain": [
       "94619"
      ]
     },
     "execution_count": 32,
     "metadata": {},
     "output_type": "execute_result"
    }
   ],
   "source": [
    "len(df_cs)"
   ]
  },
  {
   "cell_type": "markdown",
   "metadata": {},
   "source": [
    "For the following, we remove orders that contain more than one item. Indeed, for orders that contain more than one item \n",
    "the preprocessed dataset identify only the first item of the order. Therefore, we choose to add a little bias in order\n",
    "to account for product features in the forthcoming analysis."
   ]
  },
  {
   "cell_type": "code",
   "execution_count": 33,
   "metadata": {},
   "outputs": [
    {
     "data": {
      "text/plain": [
       "1     0.900147\n",
       "2     0.076623\n",
       "3     0.013507\n",
       "4     0.005136\n",
       "6     0.001997\n",
       "5     0.001987\n",
       "7     0.000233\n",
       "8     0.000085\n",
       "10    0.000074\n",
       "12    0.000053\n",
       "11    0.000042\n",
       "9     0.000032\n",
       "20    0.000021\n",
       "14    0.000021\n",
       "15    0.000021\n",
       "13    0.000011\n",
       "21    0.000011\n",
       "Name: order_item_id, dtype: float64"
      ]
     },
     "execution_count": 33,
     "metadata": {},
     "output_type": "execute_result"
    }
   ],
   "source": [
    "df_cs.order_item_id.value_counts()/len(df_cs)"
   ]
  },
  {
   "cell_type": "code",
   "execution_count": 34,
   "metadata": {},
   "outputs": [],
   "source": [
    "df_cs = df_cs[df_cs['order_item_id'] == 1.0]"
   ]
  },
  {
   "cell_type": "code",
   "execution_count": 35,
   "metadata": {},
   "outputs": [],
   "source": [
    "df_cs.drop(columns = 'order_item_id',inplace = True)"
   ]
  },
  {
   "cell_type": "code",
   "execution_count": 36,
   "metadata": {},
   "outputs": [
    {
     "data": {
      "text/html": [
       "<div>\n",
       "<style scoped>\n",
       "    .dataframe tbody tr th:only-of-type {\n",
       "        vertical-align: middle;\n",
       "    }\n",
       "\n",
       "    .dataframe tbody tr th {\n",
       "        vertical-align: top;\n",
       "    }\n",
       "\n",
       "    .dataframe thead th {\n",
       "        text-align: right;\n",
       "    }\n",
       "</style>\n",
       "<table border=\"1\" class=\"dataframe\">\n",
       "  <thead>\n",
       "    <tr style=\"text-align: right;\">\n",
       "      <th></th>\n",
       "      <th>payment_value</th>\n",
       "      <th>review_score</th>\n",
       "      <th>price</th>\n",
       "      <th>freight_value</th>\n",
       "      <th>product_name_lenght</th>\n",
       "      <th>product_description_lenght</th>\n",
       "      <th>product_photos_qty</th>\n",
       "      <th>product_weight_g</th>\n",
       "      <th>product_length_cm</th>\n",
       "      <th>product_height_cm</th>\n",
       "      <th>product_width_cm</th>\n",
       "      <th>estimated_delivery_time</th>\n",
       "      <th>real_delivery_time</th>\n",
       "      <th>delay</th>\n",
       "      <th>review_before_delivery</th>\n",
       "      <th>late</th>\n",
       "      <th>freight_ratio</th>\n",
       "      <th>simplified_review_score</th>\n",
       "    </tr>\n",
       "  </thead>\n",
       "  <tbody>\n",
       "    <tr>\n",
       "      <th>count</th>\n",
       "      <td>85171.000000</td>\n",
       "      <td>85171.000000</td>\n",
       "      <td>85171.000000</td>\n",
       "      <td>85171.000000</td>\n",
       "      <td>85171.000000</td>\n",
       "      <td>85171.000000</td>\n",
       "      <td>85171.000000</td>\n",
       "      <td>85171.000000</td>\n",
       "      <td>85171.000000</td>\n",
       "      <td>85171.000000</td>\n",
       "      <td>85171.000000</td>\n",
       "      <td>85171.000000</td>\n",
       "      <td>85171.000000</td>\n",
       "      <td>85171.000000</td>\n",
       "      <td>85171.000000</td>\n",
       "      <td>85171.000000</td>\n",
       "      <td>85171.000000</td>\n",
       "      <td>85171.000000</td>\n",
       "    </tr>\n",
       "    <tr>\n",
       "      <th>mean</th>\n",
       "      <td>147.717232</td>\n",
       "      <td>4.204682</td>\n",
       "      <td>129.877602</td>\n",
       "      <td>20.370060</td>\n",
       "      <td>48.911085</td>\n",
       "      <td>800.770755</td>\n",
       "      <td>2.284064</td>\n",
       "      <td>2113.756208</td>\n",
       "      <td>30.085780</td>\n",
       "      <td>16.435782</td>\n",
       "      <td>23.045356</td>\n",
       "      <td>22.814092</td>\n",
       "      <td>11.719893</td>\n",
       "      <td>0.742753</td>\n",
       "      <td>0.044910</td>\n",
       "      <td>0.069413</td>\n",
       "      <td>0.302508</td>\n",
       "      <td>0.803313</td>\n",
       "    </tr>\n",
       "    <tr>\n",
       "      <th>std</th>\n",
       "      <td>201.074784</td>\n",
       "      <td>1.239164</td>\n",
       "      <td>196.336355</td>\n",
       "      <td>15.964991</td>\n",
       "      <td>9.963798</td>\n",
       "      <td>656.824135</td>\n",
       "      <td>1.763768</td>\n",
       "      <td>3772.686563</td>\n",
       "      <td>16.125294</td>\n",
       "      <td>13.231353</td>\n",
       "      <td>11.754605</td>\n",
       "      <td>8.737873</td>\n",
       "      <td>9.596069</td>\n",
       "      <td>4.727643</td>\n",
       "      <td>0.207107</td>\n",
       "      <td>0.254157</td>\n",
       "      <td>0.307241</td>\n",
       "      <td>0.397496</td>\n",
       "    </tr>\n",
       "    <tr>\n",
       "      <th>min</th>\n",
       "      <td>0.010000</td>\n",
       "      <td>1.000000</td>\n",
       "      <td>0.850000</td>\n",
       "      <td>0.000000</td>\n",
       "      <td>5.000000</td>\n",
       "      <td>4.000000</td>\n",
       "      <td>1.000000</td>\n",
       "      <td>0.000000</td>\n",
       "      <td>7.000000</td>\n",
       "      <td>2.000000</td>\n",
       "      <td>6.000000</td>\n",
       "      <td>-6.000000</td>\n",
       "      <td>-7.000000</td>\n",
       "      <td>0.000000</td>\n",
       "      <td>0.000000</td>\n",
       "      <td>0.000000</td>\n",
       "      <td>0.000000</td>\n",
       "      <td>0.000000</td>\n",
       "    </tr>\n",
       "    <tr>\n",
       "      <th>25%</th>\n",
       "      <td>57.075000</td>\n",
       "      <td>4.000000</td>\n",
       "      <td>44.050000</td>\n",
       "      <td>13.430000</td>\n",
       "      <td>43.000000</td>\n",
       "      <td>354.000000</td>\n",
       "      <td>1.000000</td>\n",
       "      <td>300.000000</td>\n",
       "      <td>18.000000</td>\n",
       "      <td>8.000000</td>\n",
       "      <td>15.000000</td>\n",
       "      <td>17.000000</td>\n",
       "      <td>6.000000</td>\n",
       "      <td>0.000000</td>\n",
       "      <td>0.000000</td>\n",
       "      <td>0.000000</td>\n",
       "      <td>0.129590</td>\n",
       "      <td>1.000000</td>\n",
       "    </tr>\n",
       "    <tr>\n",
       "      <th>50%</th>\n",
       "      <td>97.200000</td>\n",
       "      <td>5.000000</td>\n",
       "      <td>79.900000</td>\n",
       "      <td>16.500000</td>\n",
       "      <td>52.000000</td>\n",
       "      <td>614.000000</td>\n",
       "      <td>2.000000</td>\n",
       "      <td>700.000000</td>\n",
       "      <td>25.000000</td>\n",
       "      <td>13.000000</td>\n",
       "      <td>20.000000</td>\n",
       "      <td>22.000000</td>\n",
       "      <td>9.000000</td>\n",
       "      <td>0.000000</td>\n",
       "      <td>0.000000</td>\n",
       "      <td>0.000000</td>\n",
       "      <td>0.219733</td>\n",
       "      <td>1.000000</td>\n",
       "    </tr>\n",
       "    <tr>\n",
       "      <th>75%</th>\n",
       "      <td>164.845000</td>\n",
       "      <td>5.000000</td>\n",
       "      <td>144.410000</td>\n",
       "      <td>21.380000</td>\n",
       "      <td>57.000000</td>\n",
       "      <td>1003.000000</td>\n",
       "      <td>3.000000</td>\n",
       "      <td>1825.000000</td>\n",
       "      <td>38.000000</td>\n",
       "      <td>20.000000</td>\n",
       "      <td>30.000000</td>\n",
       "      <td>28.000000</td>\n",
       "      <td>15.000000</td>\n",
       "      <td>0.000000</td>\n",
       "      <td>0.000000</td>\n",
       "      <td>0.000000</td>\n",
       "      <td>0.372135</td>\n",
       "      <td>1.000000</td>\n",
       "    </tr>\n",
       "    <tr>\n",
       "      <th>max</th>\n",
       "      <td>6929.310000</td>\n",
       "      <td>5.000000</td>\n",
       "      <td>6735.000000</td>\n",
       "      <td>409.680000</td>\n",
       "      <td>76.000000</td>\n",
       "      <td>3992.000000</td>\n",
       "      <td>20.000000</td>\n",
       "      <td>40425.000000</td>\n",
       "      <td>105.000000</td>\n",
       "      <td>105.000000</td>\n",
       "      <td>118.000000</td>\n",
       "      <td>153.000000</td>\n",
       "      <td>208.000000</td>\n",
       "      <td>188.000000</td>\n",
       "      <td>1.000000</td>\n",
       "      <td>1.000000</td>\n",
       "      <td>21.447059</td>\n",
       "      <td>1.000000</td>\n",
       "    </tr>\n",
       "  </tbody>\n",
       "</table>\n",
       "</div>"
      ],
      "text/plain": [
       "       payment_value  review_score         price  freight_value  \\\n",
       "count   85171.000000  85171.000000  85171.000000   85171.000000   \n",
       "mean      147.717232      4.204682    129.877602      20.370060   \n",
       "std       201.074784      1.239164    196.336355      15.964991   \n",
       "min         0.010000      1.000000      0.850000       0.000000   \n",
       "25%        57.075000      4.000000     44.050000      13.430000   \n",
       "50%        97.200000      5.000000     79.900000      16.500000   \n",
       "75%       164.845000      5.000000    144.410000      21.380000   \n",
       "max      6929.310000      5.000000   6735.000000     409.680000   \n",
       "\n",
       "       product_name_lenght  product_description_lenght  product_photos_qty  \\\n",
       "count         85171.000000                85171.000000        85171.000000   \n",
       "mean             48.911085                  800.770755            2.284064   \n",
       "std               9.963798                  656.824135            1.763768   \n",
       "min               5.000000                    4.000000            1.000000   \n",
       "25%              43.000000                  354.000000            1.000000   \n",
       "50%              52.000000                  614.000000            2.000000   \n",
       "75%              57.000000                 1003.000000            3.000000   \n",
       "max              76.000000                 3992.000000           20.000000   \n",
       "\n",
       "       product_weight_g  product_length_cm  product_height_cm  \\\n",
       "count      85171.000000       85171.000000       85171.000000   \n",
       "mean        2113.756208          30.085780          16.435782   \n",
       "std         3772.686563          16.125294          13.231353   \n",
       "min            0.000000           7.000000           2.000000   \n",
       "25%          300.000000          18.000000           8.000000   \n",
       "50%          700.000000          25.000000          13.000000   \n",
       "75%         1825.000000          38.000000          20.000000   \n",
       "max        40425.000000         105.000000         105.000000   \n",
       "\n",
       "       product_width_cm  estimated_delivery_time  real_delivery_time  \\\n",
       "count      85171.000000             85171.000000        85171.000000   \n",
       "mean          23.045356                22.814092           11.719893   \n",
       "std           11.754605                 8.737873            9.596069   \n",
       "min            6.000000                -6.000000           -7.000000   \n",
       "25%           15.000000                17.000000            6.000000   \n",
       "50%           20.000000                22.000000            9.000000   \n",
       "75%           30.000000                28.000000           15.000000   \n",
       "max          118.000000               153.000000          208.000000   \n",
       "\n",
       "              delay  review_before_delivery          late  freight_ratio  \\\n",
       "count  85171.000000            85171.000000  85171.000000   85171.000000   \n",
       "mean       0.742753                0.044910      0.069413       0.302508   \n",
       "std        4.727643                0.207107      0.254157       0.307241   \n",
       "min        0.000000                0.000000      0.000000       0.000000   \n",
       "25%        0.000000                0.000000      0.000000       0.129590   \n",
       "50%        0.000000                0.000000      0.000000       0.219733   \n",
       "75%        0.000000                0.000000      0.000000       0.372135   \n",
       "max      188.000000                1.000000      1.000000      21.447059   \n",
       "\n",
       "       simplified_review_score  \n",
       "count             85171.000000  \n",
       "mean                  0.803313  \n",
       "std                   0.397496  \n",
       "min                   0.000000  \n",
       "25%                   1.000000  \n",
       "50%                   1.000000  \n",
       "75%                   1.000000  \n",
       "max                   1.000000  "
      ]
     },
     "execution_count": 36,
     "metadata": {},
     "output_type": "execute_result"
    }
   ],
   "source": [
    "df_cs.describe()"
   ]
  },
  {
   "cell_type": "markdown",
   "metadata": {},
   "source": [
    "We remove observations where the real_delivery_time takes negative value\n",
    "\n",
    "\n"
   ]
  },
  {
   "cell_type": "code",
   "execution_count": 37,
   "metadata": {},
   "outputs": [
    {
     "data": {
      "text/html": [
       "<div>\n",
       "<style scoped>\n",
       "    .dataframe tbody tr th:only-of-type {\n",
       "        vertical-align: middle;\n",
       "    }\n",
       "\n",
       "    .dataframe tbody tr th {\n",
       "        vertical-align: top;\n",
       "    }\n",
       "\n",
       "    .dataframe thead th {\n",
       "        text-align: right;\n",
       "    }\n",
       "</style>\n",
       "<table border=\"1\" class=\"dataframe\">\n",
       "  <thead>\n",
       "    <tr style=\"text-align: right;\">\n",
       "      <th></th>\n",
       "      <th>payment_value</th>\n",
       "      <th>review_score</th>\n",
       "      <th>price</th>\n",
       "      <th>freight_value</th>\n",
       "      <th>product_name_lenght</th>\n",
       "      <th>product_description_lenght</th>\n",
       "      <th>product_photos_qty</th>\n",
       "      <th>product_weight_g</th>\n",
       "      <th>product_length_cm</th>\n",
       "      <th>product_height_cm</th>\n",
       "      <th>product_width_cm</th>\n",
       "      <th>estimated_delivery_time</th>\n",
       "      <th>real_delivery_time</th>\n",
       "      <th>delay</th>\n",
       "      <th>review_before_delivery</th>\n",
       "      <th>late</th>\n",
       "      <th>freight_ratio</th>\n",
       "      <th>simplified_review_score</th>\n",
       "    </tr>\n",
       "  </thead>\n",
       "  <tbody>\n",
       "    <tr>\n",
       "      <th>count</th>\n",
       "      <td>84959.000000</td>\n",
       "      <td>84959.000000</td>\n",
       "      <td>84959.000000</td>\n",
       "      <td>84959.000000</td>\n",
       "      <td>84959.000000</td>\n",
       "      <td>84959.000000</td>\n",
       "      <td>84959.000000</td>\n",
       "      <td>84959.000000</td>\n",
       "      <td>84959.000000</td>\n",
       "      <td>84959.000000</td>\n",
       "      <td>84959.000000</td>\n",
       "      <td>84959.000000</td>\n",
       "      <td>84959.000000</td>\n",
       "      <td>84959.000000</td>\n",
       "      <td>84959.000000</td>\n",
       "      <td>84959.000000</td>\n",
       "      <td>84959.000000</td>\n",
       "      <td>84959.000000</td>\n",
       "    </tr>\n",
       "    <tr>\n",
       "      <th>mean</th>\n",
       "      <td>147.813114</td>\n",
       "      <td>4.204016</td>\n",
       "      <td>129.954025</td>\n",
       "      <td>20.392810</td>\n",
       "      <td>48.907756</td>\n",
       "      <td>800.797232</td>\n",
       "      <td>2.283407</td>\n",
       "      <td>2116.019633</td>\n",
       "      <td>30.095164</td>\n",
       "      <td>16.443249</td>\n",
       "      <td>23.050401</td>\n",
       "      <td>22.844560</td>\n",
       "      <td>11.750009</td>\n",
       "      <td>0.744206</td>\n",
       "      <td>0.044998</td>\n",
       "      <td>0.069481</td>\n",
       "      <td>0.302702</td>\n",
       "      <td>0.803129</td>\n",
       "    </tr>\n",
       "    <tr>\n",
       "      <th>std</th>\n",
       "      <td>201.187109</td>\n",
       "      <td>1.239589</td>\n",
       "      <td>196.447422</td>\n",
       "      <td>15.975689</td>\n",
       "      <td>9.965400</td>\n",
       "      <td>656.997574</td>\n",
       "      <td>1.763275</td>\n",
       "      <td>3775.081351</td>\n",
       "      <td>16.128729</td>\n",
       "      <td>13.235063</td>\n",
       "      <td>11.758118</td>\n",
       "      <td>8.722546</td>\n",
       "      <td>9.588681</td>\n",
       "      <td>4.733214</td>\n",
       "      <td>0.207301</td>\n",
       "      <td>0.254271</td>\n",
       "      <td>0.307431</td>\n",
       "      <td>0.397637</td>\n",
       "    </tr>\n",
       "    <tr>\n",
       "      <th>min</th>\n",
       "      <td>0.010000</td>\n",
       "      <td>1.000000</td>\n",
       "      <td>0.850000</td>\n",
       "      <td>0.000000</td>\n",
       "      <td>5.000000</td>\n",
       "      <td>4.000000</td>\n",
       "      <td>1.000000</td>\n",
       "      <td>0.000000</td>\n",
       "      <td>7.000000</td>\n",
       "      <td>2.000000</td>\n",
       "      <td>6.000000</td>\n",
       "      <td>1.000000</td>\n",
       "      <td>1.000000</td>\n",
       "      <td>0.000000</td>\n",
       "      <td>0.000000</td>\n",
       "      <td>0.000000</td>\n",
       "      <td>0.000000</td>\n",
       "      <td>0.000000</td>\n",
       "    </tr>\n",
       "    <tr>\n",
       "      <th>25%</th>\n",
       "      <td>57.105000</td>\n",
       "      <td>4.000000</td>\n",
       "      <td>44.400000</td>\n",
       "      <td>13.440000</td>\n",
       "      <td>43.000000</td>\n",
       "      <td>354.000000</td>\n",
       "      <td>1.000000</td>\n",
       "      <td>300.000000</td>\n",
       "      <td>18.000000</td>\n",
       "      <td>8.000000</td>\n",
       "      <td>15.000000</td>\n",
       "      <td>17.000000</td>\n",
       "      <td>6.000000</td>\n",
       "      <td>0.000000</td>\n",
       "      <td>0.000000</td>\n",
       "      <td>0.000000</td>\n",
       "      <td>0.129677</td>\n",
       "      <td>1.000000</td>\n",
       "    </tr>\n",
       "    <tr>\n",
       "      <th>50%</th>\n",
       "      <td>97.260000</td>\n",
       "      <td>5.000000</td>\n",
       "      <td>79.900000</td>\n",
       "      <td>16.520000</td>\n",
       "      <td>52.000000</td>\n",
       "      <td>614.000000</td>\n",
       "      <td>2.000000</td>\n",
       "      <td>700.000000</td>\n",
       "      <td>25.000000</td>\n",
       "      <td>13.000000</td>\n",
       "      <td>20.000000</td>\n",
       "      <td>22.000000</td>\n",
       "      <td>9.000000</td>\n",
       "      <td>0.000000</td>\n",
       "      <td>0.000000</td>\n",
       "      <td>0.000000</td>\n",
       "      <td>0.219896</td>\n",
       "      <td>1.000000</td>\n",
       "    </tr>\n",
       "    <tr>\n",
       "      <th>75%</th>\n",
       "      <td>165.025000</td>\n",
       "      <td>5.000000</td>\n",
       "      <td>144.410000</td>\n",
       "      <td>21.400000</td>\n",
       "      <td>57.000000</td>\n",
       "      <td>1003.000000</td>\n",
       "      <td>3.000000</td>\n",
       "      <td>1825.000000</td>\n",
       "      <td>38.000000</td>\n",
       "      <td>20.000000</td>\n",
       "      <td>30.000000</td>\n",
       "      <td>28.000000</td>\n",
       "      <td>15.000000</td>\n",
       "      <td>0.000000</td>\n",
       "      <td>0.000000</td>\n",
       "      <td>0.000000</td>\n",
       "      <td>0.372423</td>\n",
       "      <td>1.000000</td>\n",
       "    </tr>\n",
       "    <tr>\n",
       "      <th>max</th>\n",
       "      <td>6929.310000</td>\n",
       "      <td>5.000000</td>\n",
       "      <td>6735.000000</td>\n",
       "      <td>409.680000</td>\n",
       "      <td>76.000000</td>\n",
       "      <td>3992.000000</td>\n",
       "      <td>20.000000</td>\n",
       "      <td>40425.000000</td>\n",
       "      <td>105.000000</td>\n",
       "      <td>105.000000</td>\n",
       "      <td>118.000000</td>\n",
       "      <td>153.000000</td>\n",
       "      <td>208.000000</td>\n",
       "      <td>188.000000</td>\n",
       "      <td>1.000000</td>\n",
       "      <td>1.000000</td>\n",
       "      <td>21.447059</td>\n",
       "      <td>1.000000</td>\n",
       "    </tr>\n",
       "  </tbody>\n",
       "</table>\n",
       "</div>"
      ],
      "text/plain": [
       "       payment_value  review_score         price  freight_value  \\\n",
       "count   84959.000000  84959.000000  84959.000000   84959.000000   \n",
       "mean      147.813114      4.204016    129.954025      20.392810   \n",
       "std       201.187109      1.239589    196.447422      15.975689   \n",
       "min         0.010000      1.000000      0.850000       0.000000   \n",
       "25%        57.105000      4.000000     44.400000      13.440000   \n",
       "50%        97.260000      5.000000     79.900000      16.520000   \n",
       "75%       165.025000      5.000000    144.410000      21.400000   \n",
       "max      6929.310000      5.000000   6735.000000     409.680000   \n",
       "\n",
       "       product_name_lenght  product_description_lenght  product_photos_qty  \\\n",
       "count         84959.000000                84959.000000        84959.000000   \n",
       "mean             48.907756                  800.797232            2.283407   \n",
       "std               9.965400                  656.997574            1.763275   \n",
       "min               5.000000                    4.000000            1.000000   \n",
       "25%              43.000000                  354.000000            1.000000   \n",
       "50%              52.000000                  614.000000            2.000000   \n",
       "75%              57.000000                 1003.000000            3.000000   \n",
       "max              76.000000                 3992.000000           20.000000   \n",
       "\n",
       "       product_weight_g  product_length_cm  product_height_cm  \\\n",
       "count      84959.000000       84959.000000       84959.000000   \n",
       "mean        2116.019633          30.095164          16.443249   \n",
       "std         3775.081351          16.128729          13.235063   \n",
       "min            0.000000           7.000000           2.000000   \n",
       "25%          300.000000          18.000000           8.000000   \n",
       "50%          700.000000          25.000000          13.000000   \n",
       "75%         1825.000000          38.000000          20.000000   \n",
       "max        40425.000000         105.000000         105.000000   \n",
       "\n",
       "       product_width_cm  estimated_delivery_time  real_delivery_time  \\\n",
       "count      84959.000000             84959.000000        84959.000000   \n",
       "mean          23.050401                22.844560           11.750009   \n",
       "std           11.758118                 8.722546            9.588681   \n",
       "min            6.000000                 1.000000            1.000000   \n",
       "25%           15.000000                17.000000            6.000000   \n",
       "50%           20.000000                22.000000            9.000000   \n",
       "75%           30.000000                28.000000           15.000000   \n",
       "max          118.000000               153.000000          208.000000   \n",
       "\n",
       "              delay  review_before_delivery          late  freight_ratio  \\\n",
       "count  84959.000000            84959.000000  84959.000000   84959.000000   \n",
       "mean       0.744206                0.044998      0.069481       0.302702   \n",
       "std        4.733214                0.207301      0.254271       0.307431   \n",
       "min        0.000000                0.000000      0.000000       0.000000   \n",
       "25%        0.000000                0.000000      0.000000       0.129677   \n",
       "50%        0.000000                0.000000      0.000000       0.219896   \n",
       "75%        0.000000                0.000000      0.000000       0.372423   \n",
       "max      188.000000                1.000000      1.000000      21.447059   \n",
       "\n",
       "       simplified_review_score  \n",
       "count             84959.000000  \n",
       "mean                  0.803129  \n",
       "std                   0.397637  \n",
       "min                   0.000000  \n",
       "25%                   1.000000  \n",
       "50%                   1.000000  \n",
       "75%                   1.000000  \n",
       "max                   1.000000  "
      ]
     },
     "execution_count": 37,
     "metadata": {},
     "output_type": "execute_result"
    }
   ],
   "source": [
    "df_cs= df_cs[df_cs['real_delivery_time']>0]\n",
    "df_cs = df_cs[df_cs['estimated_delivery_time']>0]\n",
    "df_cs.describe()"
   ]
  },
  {
   "cell_type": "code",
   "execution_count": 38,
   "metadata": {},
   "outputs": [],
   "source": [
    "df_cs.drop(columns = ['product_name_lenght','product_height_cm','product_width_cm','product_weight_g','product_length_cm'],inplace = True)"
   ]
  },
  {
   "cell_type": "code",
   "execution_count": 39,
   "metadata": {},
   "outputs": [],
   "source": [
    "corr = df_cs.apply(lambda x: pd.factorize(x)[0]).corr()"
   ]
  },
  {
   "cell_type": "code",
   "execution_count": 40,
   "metadata": {},
   "outputs": [
    {
     "data": {
      "image/png": "[encoded data removed]",
      "text/plain": [
       "<Figure size 864x432 with 2 Axes>"
      ]
     },
     "metadata": {
      "needs_background": "light"
     },
     "output_type": "display_data"
    }
   ],
   "source": [
    "plt.figure(figsize=(12, 6))\n",
    "ax = sns.heatmap(corr, xticklabels=corr.columns, yticklabels=corr.columns, \n",
    "                 linewidths=.2, cmap=\"YlGnBu\")\n",
    "#plt.savefig('corr_review.eps',bbox_inches = 'tight')"
   ]
  },
  {
   "cell_type": "code",
   "execution_count": 41,
   "metadata": {},
   "outputs": [],
   "source": [
    "from sklearn.preprocessing import MinMaxScaler, StandardScaler\n",
    "from sklearn.ensemble import RandomForestClassifier\n",
    "from sklearn.model_selection import train_test_split\n",
    "from sklearn.metrics import recall_score, accuracy_score, precision_score, confusion_matrix\n",
    "from sklearn.metrics import f1_score"
   ]
  },
  {
   "cell_type": "markdown",
   "metadata": {},
   "source": [
    "## Confusion Matrix\n",
    "A confusion matrix is a summary of prediction results on a classification problem.\n",
    "\n",
    "The number of correct and incorrect predictions are summarized with count values and broken down by each class. This is the key to the confusion matrix.\n",
    "\n",
    "The confusion matrix shows the ways in which your classification model\n",
    "is confused when it makes predictions.\n",
    "\n",
    "It gives you insight not only into the errors being made by your classifier but more importantly the types of errors that are being made.\n",
    "\n",
    "It is this breakdown that overcomes the limitation of using classification accuracy alone.\n",
    "\n",
    "In our problem, we are often looking to discriminate between observations with a specific outcome, from normal observations.\n",
    "\n",
    "Such as a Customer satisfied or event from Customer Not Satisfied or no event.\n",
    "\n",
    "In this way, we can assign the event row as “positive” and the no-event row as “negative“. We can then assign the event column of predictions as “true” and the no-event as “false“.\n",
    "\n",
    "This gives us:\n",
    "\n",
    "“true positive” for correctly predicted event values.\n",
    "“false positive” for incorrectly predicted event values.\n",
    "“true negative” for correctly predicted no-event values.\n",
    "“false negative” for incorrectly predicted no-event values.\n",
    "\n",
    "### Accuracy\n",
    "Classification accuracy is the total number of correct predictions divided by the total number of predictions made for a dataset.\n",
    "\n",
    "As a performance measure, accuracy is inappropriate for imbalanced classification problems.\n",
    "\n",
    "The main reason is that the overwhelming number of examples from the majority class (or classes) will overwhelm the number of examples in the minority class, meaning that even unskillful models can achieve accuracy scores of 90 percent, or 99 percent, depending on how severe the class imbalance happens to be.\n",
    "\n",
    "An alternative to using classification accuracy is to use precision and recall metrics.\n",
    "\n",
    "Accuracy: It is the measure of correctly classified results, irrespective of classes. It is also called as Overall Success Rate.Here we have built a model  with following results, where YES=Satisfied and NO=Not Satisfied\n",
    "\n",
    "![title](img/cm.jpg) \n",
    "                \n",
    "             Accuracy = (TruePositives + TruePositives)/ (TruePositives + TrueNegatives + FalsePositives + FalseNegatives)\n",
    " \n",
    "so therefore Accuracy of above model is 67.8%. Above formula is used to calculate.\n",
    "### Precision\n",
    "In an imbalanced classification problem with two classes, precision is calculated as the number of true positives divided by the total number of true positives and false positives.\n",
    "\n",
    "                    Precision = TruePositives / (TruePositives + FalsePositives)\n",
    "\n",
    "The result is a value between 0.0 for no precision and 1.0 for full or perfect precision.\n",
    "\n",
    "Let’s make this calculation concrete with some examples.\n",
    "\n",
    "Consider a dataset with a 1:100 minority to majority ratio, with 100 minority examples and 10,000 majority class examples.\n",
    "\n",
    "A model makes predictions and predicts 120 examples as belonging to the minority class, 90 of which are correct, and 30 of which are incorrect.\n",
    "\n",
    "The precision for this model is calculated as:\n",
    "\n",
    "                    Precision = TruePositives / (TruePositives + FalsePositives)\n",
    "                    Precision = 90 / (90 + 30)\n",
    "                    Precision = 90 / 120\n",
    "                    Precision = 0.75\n",
    "The result is a precision of 0.75, which is a reasonable value but not outstanding.\n",
    "\n",
    "You can see that precision is simply the ratio of correct positive predictions out of all positive predictions made, or the accuracy of minority class predictions.\n",
    "\n",
    "Consider the same dataset, where a model predicts 50 examples belonging to the minority class, 45 of which are true positives and five of which are false positives. We can calculate the precision for this model as follows:\n",
    "\n",
    "                    Precision = TruePositives / (TruePositives + FalsePositives)\n",
    "                    Precision = 45 / (45 + 5)\n",
    "                    Precision = 45 / 50\n",
    "                    Precision = 0.90\n",
    "In this case, although the model predicted far fewer examples as belonging to the minority class, the ratio of correct positive examples is much better.\n",
    "\n",
    "This highlights that although precision is useful, it does not tell the whole story. It does not comment on how many real positive class examples were predicted as belonging to the negative class, so-called false negatives.\n",
    "\n",
    "### Recall \n",
    "In an imbalanced classification problem with two classes, recall is calculated as the number of true positives divided by the total number of true positives and false negatives.\n",
    "\n",
    "                    Recall = TruePositives / (TruePositives + FalseNegatives)\n",
    "\n",
    "The result is a value between 0.0 for no recall and 1.0 for full or perfect recall.\n",
    "\n",
    "Let’s make this calculation concrete with some examples.\n",
    "\n",
    "As in the previous section, consider a dataset with 1:100 minority to majority ratio, with 100 minority examples and 10,000 majority class examples.\n",
    "\n",
    "A model makes predictions and predicts 90 of the positive class predictions correctly and 10 incorrectly. We can calculate the recall for this model as follows:\n",
    "\n",
    "                    Recall = TruePositives / (TruePositives + FalseNegatives)\n",
    "                    Recall = 90 / (90 + 10)\n",
    "                    Recall = 90 / 100\n",
    "                    Recall = 0.9\n",
    "This model has a good recall.\n",
    "\n",
    "So,\n",
    "    \n",
    "   <b>Precision</b> quantifies the number of positive class predictions that actually belong to the positive class.\n",
    "    \n",
    "   <b>Recall</b> quantifies the number of positive class predictions made out of all positive examples in the dataset.\n",
    "    \n",
    "   <b>F-Measure</b> provides a single score that balances both the concerns of precision and recall in one number."
   ]
  },
  {
   "cell_type": "code",
   "execution_count": 42,
   "metadata": {},
   "outputs": [],
   "source": [
    "def conf_mat(test_features,test_labels,y_pred,model):\n",
    "\n",
    "    \n",
    "    cm = confusion_matrix(test_labels, y_pred)\n",
    "    score = model.score(test_features,test_labels)\n",
    "    recall = recall_score(test_labels,y_pred,pos_label = 0)\n",
    "    precision = precision_score(test_labels,y_pred,pos_label = 0)\n",
    "    plt.figure(figsize=(9,9))\n",
    "    sns.heatmap(cm, annot=True, fmt=\".3f\", linewidths=.5, square = True, cmap = 'Blues_r');\n",
    "    plt.ylabel('Actual label');\n",
    "    plt.xlabel('Predicted label');\n",
    "    all_sample_title = 'Accuracy Score: {0}'.format(score) + '\\n' +'Recall Score: {0}'.format(recall) \\\n",
    "    + '\\n' + 'Precision Score: {0}'.format(precision)\n",
    "    plt.title(all_sample_title, size = 15);"
   ]
  },
  {
   "cell_type": "code",
   "execution_count": 43,
   "metadata": {},
   "outputs": [],
   "source": [
    "features = df_cs.drop(columns=['review_score','simplified_review_score'])\n",
    "labels = np.array(df_cs['simplified_review_score'])\n",
    "train_features, test_features, train_labels, test_labels = train_test_split(features, labels, test_size = 0.25, random_state = 42)"
   ]
  },
  {
   "cell_type": "markdown",
   "metadata": {},
   "source": [
    "Undersample "
   ]
  },
  {
   "cell_type": "code",
   "execution_count": 44,
   "metadata": {},
   "outputs": [],
   "source": [
    "from imblearn.under_sampling import ClusterCentroids, RandomUnderSampler\n",
    "from imblearn.over_sampling import SMOTE\n",
    "from imblearn.under_sampling import TomekLinks\n"
   ]
  },
  {
   "cell_type": "code",
   "execution_count": 45,
   "metadata": {
    "scrolled": true
   },
   "outputs": [],
   "source": [
    "#Random Oversampling: Randomly duplicate examples in the minority class.\n",
    "#Random Undersampling: Randomly delete examples in the majority class.\n",
    "\n",
    "sampler = RandomUnderSampler(random_state=42,replacement=True)\n",
    "X_rs, y_rs = sampler.fit_resample(train_features, train_labels)\n",
    "\n",
    "smote = SMOTE(ratio='not majority')\n",
    "X_train_smote, y_train_smote = smote.fit_sample(train_features,train_labels)\n",
    "\n",
    "tl = TomekLinks(return_indices=True, ratio='majority')\n",
    "X_tomek, y_tomek, id_tomek = tl.fit_sample(train_features, train_labels)\n",
    "\n",
    "#TOMEK AND SMOTE\n",
    "#X_train_tomek, y_train_tomek, id_tomek = tl.fit_sample(X_train_smote, y_train_smote)\n"
   ]
  },
  {
   "cell_type": "markdown",
   "metadata": {},
   "source": [
    "## Algorithms\n",
    "Here we going to use 5 different classifier algorithm with this dataset.\n",
    "        \n",
    "        XGBoost Classifier\n",
    "        SVM Classifier\n",
    "        Decision Tree Classifier\n",
    "        Random Forest Classifier\n",
    "        Extra Tree Classifier\n",
    "        "
   ]
  },
  {
   "cell_type": "markdown",
   "metadata": {},
   "source": [
    "<b>Random Forest</b>\n",
    "\n",
    "Definition: Random forest classifier is a meta-estimator that fits a number of decision trees on various sub-samples of datasets and uses average to improve the predictive accuracy of the model and controls over-fitting. The sub-sample size is always the same as the original input sample size but the samples are drawn with replacement.\n",
    "\n",
    "Advantages: Reduction in over-fitting and random forest classifier is more accurate than decision trees in most cases.\n",
    "\n",
    "Disadvantages: Slow real time prediction, difficult to implement, and complex algorithm."
   ]
  },
  {
   "cell_type": "code",
   "execution_count": 46,
   "metadata": {},
   "outputs": [
    {
     "name": "stderr",
     "output_type": "stream",
     "text": [
      "C:\\Users\\ABONIA\\Anaconda3\\lib\\site-packages\\sklearn\\ensemble\\forest.py:246: FutureWarning: The default value of n_estimators will change from 10 in version 0.20 to 100 in 0.22.\n",
      "  \"10 in version 0.20 to 100 in 0.22.\", FutureWarning)\n"
     ]
    },
    {
     "data": {
      "text/plain": [
       "RandomForestClassifier(bootstrap=True, class_weight=None, criterion='gini',\n",
       "            max_depth=None, max_features='auto', max_leaf_nodes=None,\n",
       "            min_impurity_decrease=0.0, min_impurity_split=None,\n",
       "            min_samples_leaf=1, min_samples_split=2,\n",
       "            min_weight_fraction_leaf=0.0, n_estimators=10, n_jobs=None,\n",
       "            oob_score=False, random_state=None, verbose=0,\n",
       "            warm_start=False)"
      ]
     },
     "execution_count": 46,
     "metadata": {},
     "output_type": "execute_result"
    }
   ],
   "source": [
    "rfc = RandomForestClassifier()\n",
    "rfc.fit(train_features,train_labels)\n"
   ]
  },
  {
   "cell_type": "code",
   "execution_count": 47,
   "metadata": {},
   "outputs": [
    {
     "data": {
      "image/png": "[encoded data removed]",
      "text/plain": [
       "<Figure size 648x648 with 2 Axes>"
      ]
     },
     "metadata": {
      "needs_background": "light"
     },
     "output_type": "display_data"
    }
   ],
   "source": [
    "predictions = rfc.predict(test_features)\n",
    "conf_mat(test_features,test_labels,predictions,rfc)"
   ]
  },
  {
   "cell_type": "code",
   "execution_count": 48,
   "metadata": {},
   "outputs": [],
   "source": [
    "feature_list = df_cs.drop(columns=['review_score','simplified_review_score']).columns"
   ]
  },
  {
   "cell_type": "code",
   "execution_count": 49,
   "metadata": {},
   "outputs": [],
   "source": [
    "feature_importances_rfc = pd.DataFrame(rfc.feature_importances_,\n",
    "                                   index =  feature_list,\n",
    "                                    columns=['importance']).sort_values('importance', ascending=False)"
   ]
  },
  {
   "cell_type": "code",
   "execution_count": 50,
   "metadata": {},
   "outputs": [],
   "source": [
    "feature_importances_rfc['importance'] = feature_importances_rfc['importance']/np.max(feature_importances_rfc['importance'])"
   ]
  },
  {
   "cell_type": "code",
   "execution_count": 51,
   "metadata": {},
   "outputs": [
    {
     "data": {
      "text/html": [
       "<div>\n",
       "<style scoped>\n",
       "    .dataframe tbody tr th:only-of-type {\n",
       "        vertical-align: middle;\n",
       "    }\n",
       "\n",
       "    .dataframe tbody tr th {\n",
       "        vertical-align: top;\n",
       "    }\n",
       "\n",
       "    .dataframe thead th {\n",
       "        text-align: right;\n",
       "    }\n",
       "</style>\n",
       "<table border=\"1\" class=\"dataframe\">\n",
       "  <thead>\n",
       "    <tr style=\"text-align: right;\">\n",
       "      <th></th>\n",
       "      <th>importance</th>\n",
       "    </tr>\n",
       "  </thead>\n",
       "  <tbody>\n",
       "    <tr>\n",
       "      <th>product_description_lenght</th>\n",
       "      <td>1.000000</td>\n",
       "    </tr>\n",
       "    <tr>\n",
       "      <th>freight_ratio</th>\n",
       "      <td>0.943127</td>\n",
       "    </tr>\n",
       "    <tr>\n",
       "      <th>payment_value</th>\n",
       "      <td>0.938204</td>\n",
       "    </tr>\n",
       "    <tr>\n",
       "      <th>freight_value</th>\n",
       "      <td>0.845615</td>\n",
       "    </tr>\n",
       "    <tr>\n",
       "      <th>estimated_delivery_time</th>\n",
       "      <td>0.824639</td>\n",
       "    </tr>\n",
       "    <tr>\n",
       "      <th>price</th>\n",
       "      <td>0.795897</td>\n",
       "    </tr>\n",
       "    <tr>\n",
       "      <th>real_delivery_time</th>\n",
       "      <td>0.716324</td>\n",
       "    </tr>\n",
       "    <tr>\n",
       "      <th>review_before_delivery</th>\n",
       "      <td>0.596307</td>\n",
       "    </tr>\n",
       "    <tr>\n",
       "      <th>delay</th>\n",
       "      <td>0.509859</td>\n",
       "    </tr>\n",
       "    <tr>\n",
       "      <th>product_photos_qty</th>\n",
       "      <td>0.316829</td>\n",
       "    </tr>\n",
       "    <tr>\n",
       "      <th>late</th>\n",
       "      <td>0.137842</td>\n",
       "    </tr>\n",
       "  </tbody>\n",
       "</table>\n",
       "</div>"
      ],
      "text/plain": [
       "                            importance\n",
       "product_description_lenght    1.000000\n",
       "freight_ratio                 0.943127\n",
       "payment_value                 0.938204\n",
       "freight_value                 0.845615\n",
       "estimated_delivery_time       0.824639\n",
       "price                         0.795897\n",
       "real_delivery_time            0.716324\n",
       "review_before_delivery        0.596307\n",
       "delay                         0.509859\n",
       "product_photos_qty            0.316829\n",
       "late                          0.137842"
      ]
     },
     "execution_count": 51,
     "metadata": {},
     "output_type": "execute_result"
    }
   ],
   "source": [
    "feature_importances_rfc"
   ]
  },
  {
   "cell_type": "markdown",
   "metadata": {},
   "source": [
    "<b>Decision Tree</b>\n",
    "\n",
    "Definition: Given a data of attributes together with its classes, a decision tree produces a sequence of rules that can be used to classify the data.\n",
    "\n",
    "Advantages: Decision Tree is simple to understand and visualise, requires little data preparation, and can handle both numerical and categorical data.\n",
    "\n",
    "Disadvantages: Decision tree can create complex trees that do not generalise well, and decision trees can be unstable because small variations in the data might result in a completely different tree being generated."
   ]
  },
  {
   "cell_type": "code",
   "execution_count": 52,
   "metadata": {},
   "outputs": [
    {
     "data": {
      "image/png": "[encoded data removed]",
      "text/plain": [
       "<Figure size 648x648 with 2 Axes>"
      ]
     },
     "metadata": {
      "needs_background": "light"
     },
     "output_type": "display_data"
    }
   ],
   "source": [
    "from sklearn.tree import DecisionTreeClassifier\n",
    "\n",
    "dtc = DecisionTreeClassifier()\n",
    "\n",
    "dtc.fit(train_features,train_labels)\n",
    "feature_importances_decisiontree = pd.DataFrame(dtc.feature_importances_,\n",
    "                                   index =  feature_list,\n",
    "                                    columns=['importance']).sort_values('importance', ascending=False)\n",
    "\n",
    "\n",
    "predictions = dtc.predict(test_features)\n",
    "conf_mat(test_features,test_labels,predictions,dtc)"
   ]
  },
  {
   "cell_type": "code",
   "execution_count": 53,
   "metadata": {},
   "outputs": [],
   "source": [
    "feature_importances_decisiontree['importance']=feature_importances_decisiontree['importance']/np.max(feature_importances_decisiontree['importance'])"
   ]
  },
  {
   "cell_type": "code",
   "execution_count": 54,
   "metadata": {},
   "outputs": [
    {
     "data": {
      "text/html": [
       "<div>\n",
       "<style scoped>\n",
       "    .dataframe tbody tr th:only-of-type {\n",
       "        vertical-align: middle;\n",
       "    }\n",
       "\n",
       "    .dataframe tbody tr th {\n",
       "        vertical-align: top;\n",
       "    }\n",
       "\n",
       "    .dataframe thead th {\n",
       "        text-align: right;\n",
       "    }\n",
       "</style>\n",
       "<table border=\"1\" class=\"dataframe\">\n",
       "  <thead>\n",
       "    <tr style=\"text-align: right;\">\n",
       "      <th></th>\n",
       "      <th>importance</th>\n",
       "    </tr>\n",
       "  </thead>\n",
       "  <tbody>\n",
       "    <tr>\n",
       "      <th>product_description_lenght</th>\n",
       "      <td>1.000000</td>\n",
       "    </tr>\n",
       "    <tr>\n",
       "      <th>delay</th>\n",
       "      <td>0.922073</td>\n",
       "    </tr>\n",
       "    <tr>\n",
       "      <th>estimated_delivery_time</th>\n",
       "      <td>0.762371</td>\n",
       "    </tr>\n",
       "    <tr>\n",
       "      <th>freight_ratio</th>\n",
       "      <td>0.729855</td>\n",
       "    </tr>\n",
       "    <tr>\n",
       "      <th>freight_value</th>\n",
       "      <td>0.657995</td>\n",
       "    </tr>\n",
       "    <tr>\n",
       "      <th>payment_value</th>\n",
       "      <td>0.656194</td>\n",
       "    </tr>\n",
       "    <tr>\n",
       "      <th>price</th>\n",
       "      <td>0.472107</td>\n",
       "    </tr>\n",
       "    <tr>\n",
       "      <th>real_delivery_time</th>\n",
       "      <td>0.460577</td>\n",
       "    </tr>\n",
       "    <tr>\n",
       "      <th>product_photos_qty</th>\n",
       "      <td>0.244131</td>\n",
       "    </tr>\n",
       "    <tr>\n",
       "      <th>review_before_delivery</th>\n",
       "      <td>0.074323</td>\n",
       "    </tr>\n",
       "    <tr>\n",
       "      <th>late</th>\n",
       "      <td>0.003165</td>\n",
       "    </tr>\n",
       "  </tbody>\n",
       "</table>\n",
       "</div>"
      ],
      "text/plain": [
       "                            importance\n",
       "product_description_lenght    1.000000\n",
       "delay                         0.922073\n",
       "estimated_delivery_time       0.762371\n",
       "freight_ratio                 0.729855\n",
       "freight_value                 0.657995\n",
       "payment_value                 0.656194\n",
       "price                         0.472107\n",
       "real_delivery_time            0.460577\n",
       "product_photos_qty            0.244131\n",
       "review_before_delivery        0.074323\n",
       "late                          0.003165"
      ]
     },
     "execution_count": 54,
     "metadata": {},
     "output_type": "execute_result"
    }
   ],
   "source": [
    "feature_importances_decisiontree"
   ]
  },
  {
   "cell_type": "markdown",
   "metadata": {},
   "source": [
    "<b>Extremely Randomized Trees Classifier(Extra Trees Classifier)</b> is a type of ensemble learning technique which aggregates the results of multiple de-correlated decision trees collected in a “forest” to output it’s classification result. In concept, it is very similar to a Random Forest Classifier and only differs from it in the manner of construction of the decision trees in the forest.\n",
    "\n",
    "Each Decision Tree in the Extra Trees Forest is constructed from the original training sample. Then, at each test node, Each tree is provided with a random sample of k features from the feature-set from which each decision tree must select the best feature to split the data based on some mathematical criteria (typically the Gini Index). This random sample of features leads to the creation of multiple de-correlated decision trees"
   ]
  },
  {
   "cell_type": "code",
   "execution_count": 55,
   "metadata": {},
   "outputs": [
    {
     "name": "stderr",
     "output_type": "stream",
     "text": [
      "C:\\Users\\ABONIA\\Anaconda3\\lib\\site-packages\\sklearn\\ensemble\\forest.py:246: FutureWarning: The default value of n_estimators will change from 10 in version 0.20 to 100 in 0.22.\n",
      "  \"10 in version 0.20 to 100 in 0.22.\", FutureWarning)\n"
     ]
    }
   ],
   "source": [
    "from sklearn.ensemble import ExtraTreesClassifier\n",
    "etc = ExtraTreesClassifier()\n",
    "etc.fit(train_features,train_labels)\n",
    "\n",
    "predictions = etc.predict(test_features)"
   ]
  },
  {
   "cell_type": "code",
   "execution_count": 56,
   "metadata": {},
   "outputs": [
    {
     "data": {
      "image/png": "[encoded data removed]",
      "text/plain": [
       "<Figure size 648x648 with 2 Axes>"
      ]
     },
     "metadata": {
      "needs_background": "light"
     },
     "output_type": "display_data"
    }
   ],
   "source": [
    "conf_mat(test_features,test_labels,predictions,etc)"
   ]
  },
  {
   "cell_type": "code",
   "execution_count": 57,
   "metadata": {},
   "outputs": [],
   "source": [
    "feature_importances_etc = pd.DataFrame(etc.feature_importances_,\n",
    "                                   index =  feature_list,\n",
    "                                    columns=['importance']).sort_values('importance', ascending=False)"
   ]
  },
  {
   "cell_type": "code",
   "execution_count": 58,
   "metadata": {},
   "outputs": [],
   "source": [
    "feature_importances_etc['importance'] = feature_importances_etc['importance']/ np.max(feature_importances_etc['importance'])"
   ]
  },
  {
   "cell_type": "code",
   "execution_count": 59,
   "metadata": {},
   "outputs": [
    {
     "data": {
      "text/html": [
       "<div>\n",
       "<style scoped>\n",
       "    .dataframe tbody tr th:only-of-type {\n",
       "        vertical-align: middle;\n",
       "    }\n",
       "\n",
       "    .dataframe tbody tr th {\n",
       "        vertical-align: top;\n",
       "    }\n",
       "\n",
       "    .dataframe thead th {\n",
       "        text-align: right;\n",
       "    }\n",
       "</style>\n",
       "<table border=\"1\" class=\"dataframe\">\n",
       "  <thead>\n",
       "    <tr style=\"text-align: right;\">\n",
       "      <th></th>\n",
       "      <th>importance</th>\n",
       "    </tr>\n",
       "  </thead>\n",
       "  <tbody>\n",
       "    <tr>\n",
       "      <th>estimated_delivery_time</th>\n",
       "      <td>1.000000</td>\n",
       "    </tr>\n",
       "    <tr>\n",
       "      <th>product_description_lenght</th>\n",
       "      <td>0.961757</td>\n",
       "    </tr>\n",
       "    <tr>\n",
       "      <th>freight_ratio</th>\n",
       "      <td>0.925841</td>\n",
       "    </tr>\n",
       "    <tr>\n",
       "      <th>payment_value</th>\n",
       "      <td>0.914855</td>\n",
       "    </tr>\n",
       "    <tr>\n",
       "      <th>freight_value</th>\n",
       "      <td>0.891380</td>\n",
       "    </tr>\n",
       "    <tr>\n",
       "      <th>price</th>\n",
       "      <td>0.873774</td>\n",
       "    </tr>\n",
       "    <tr>\n",
       "      <th>review_before_delivery</th>\n",
       "      <td>0.726345</td>\n",
       "    </tr>\n",
       "    <tr>\n",
       "      <th>real_delivery_time</th>\n",
       "      <td>0.579771</td>\n",
       "    </tr>\n",
       "    <tr>\n",
       "      <th>late</th>\n",
       "      <td>0.422692</td>\n",
       "    </tr>\n",
       "    <tr>\n",
       "      <th>product_photos_qty</th>\n",
       "      <td>0.418139</td>\n",
       "    </tr>\n",
       "    <tr>\n",
       "      <th>delay</th>\n",
       "      <td>0.146483</td>\n",
       "    </tr>\n",
       "  </tbody>\n",
       "</table>\n",
       "</div>"
      ],
      "text/plain": [
       "                            importance\n",
       "estimated_delivery_time       1.000000\n",
       "product_description_lenght    0.961757\n",
       "freight_ratio                 0.925841\n",
       "payment_value                 0.914855\n",
       "freight_value                 0.891380\n",
       "price                         0.873774\n",
       "review_before_delivery        0.726345\n",
       "real_delivery_time            0.579771\n",
       "late                          0.422692\n",
       "product_photos_qty            0.418139\n",
       "delay                         0.146483"
      ]
     },
     "execution_count": 59,
     "metadata": {},
     "output_type": "execute_result"
    }
   ],
   "source": [
    "feature_importances_etc"
   ]
  },
  {
   "cell_type": "markdown",
   "metadata": {},
   "source": [
    "# Feature Importance Visualisation"
   ]
  },
  {
   "cell_type": "code",
   "execution_count": 60,
   "metadata": {},
   "outputs": [
    {
     "data": {
      "text/plain": [
       "<matplotlib.axes._subplots.AxesSubplot at 0x1edcbd1b438>"
      ]
     },
     "execution_count": 60,
     "metadata": {},
     "output_type": "execute_result"
    },
    {
     "data": {
      "image/png": "[encoded data removed]",
      "text/plain": [
       "<Figure size 360x720 with 1 Axes>"
      ]
     },
     "metadata": {
      "needs_background": "light"
     },
     "output_type": "display_data"
    }
   ],
   "source": [
    "plt.figure(figsize = (5,10))\n",
    "\n",
    "sns.barplot(y = feature_importances_etc.index, x = feature_importances_etc.importance, data = feature_importances_etc,palette = \"BuGn_r\")\n",
    "#plt.savefig('etc.eps',bbox_inches = 'tight')"
   ]
  },
  {
   "cell_type": "code",
   "execution_count": 61,
   "metadata": {},
   "outputs": [
    {
     "data": {
      "text/plain": [
       "<matplotlib.axes._subplots.AxesSubplot at 0x1edcc172cc0>"
      ]
     },
     "execution_count": 61,
     "metadata": {},
     "output_type": "execute_result"
    },
    {
     "data": {
      "image/png": "[encoded data removed]",
      "text/plain": [
       "<Figure size 360x720 with 1 Axes>"
      ]
     },
     "metadata": {
      "needs_background": "light"
     },
     "output_type": "display_data"
    }
   ],
   "source": [
    "plt.figure(figsize = (5,10))\n",
    "\n",
    "sns.barplot(y = feature_importances_rfc.index, x = feature_importances_rfc.importance, data = feature_importances_etc,palette = \"BuGn_r\")\n",
    "\n",
    "#plt.savefig('rfc.eps',bbox_inches = 'tight')"
   ]
  },
  {
   "cell_type": "code",
   "execution_count": 62,
   "metadata": {},
   "outputs": [
    {
     "data": {
      "text/plain": [
       "<matplotlib.axes._subplots.AxesSubplot at 0x1edcc91d278>"
      ]
     },
     "execution_count": 62,
     "metadata": {},
     "output_type": "execute_result"
    },
    {
     "data": {
      "image/png": "[encoded data removed]",
      "text/plain": [
       "<Figure size 216x720 with 1 Axes>"
      ]
     },
     "metadata": {
      "needs_background": "light"
     },
     "output_type": "display_data"
    }
   ],
   "source": [
    "plt.figure(figsize = (3,10))\n",
    "\n",
    "sns.barplot(y = feature_importances_decisiontree.index, x = feature_importances_decisiontree.importance, data = feature_importances_etc,palette = \"BuGn_r\")\n",
    "\n",
    "#plt.savefig('dt.eps',bbox_inches = 'tight')"
   ]
  },
  {
   "cell_type": "markdown",
   "metadata": {},
   "source": [
    "<b>XGBoost Classifier</b>\n",
    "XGBoost stands for eXtreme Gradient Boosting.\n",
    "\n",
    "The name xgboost, though, actually refers to the engineering goal to push the limit of computations resources for boosted tree algorithms. Which is the reason why many people use xgboost.\n",
    "\n",
    "XGBoost is an algorithm that has recently been dominating applied machine learning and Kaggle competitions for structured or tabular data.\n",
    "XGBoost is an implementation of gradient boosted decision trees designed for speed and performance.\n",
    "That XGBoost is a library for developing fast and high performance gradient boosting tree models.\n",
    "That XGBoost is achieving the best performance on a range of difficult machine learning tasks."
   ]
  },
  {
   "cell_type": "code",
   "execution_count": 63,
   "metadata": {},
   "outputs": [
    {
     "data": {
      "text/plain": [
       "XGBClassifier(base_score=0.5, booster=None, colsample_bylevel=1,\n",
       "       colsample_bynode=1, colsample_bytree=1, gamma=0, gpu_id=-1,\n",
       "       importance_type='gain', interaction_constraints=None,\n",
       "       learning_rate=0.300000012, max_delta_step=0, max_depth=6,\n",
       "       min_child_weight=1, missing=nan, monotone_constraints=None,\n",
       "       n_estimators=100, n_jobs=0, num_parallel_tree=1,\n",
       "       objective='binary:logistic', random_state=0, reg_alpha=0,\n",
       "       reg_lambda=1, scale_pos_weight=1, subsample=1, tree_method=None,\n",
       "       validate_parameters=False, verbosity=None)"
      ]
     },
     "execution_count": 63,
     "metadata": {},
     "output_type": "execute_result"
    }
   ],
   "source": [
    "import xgboost as xgb\n",
    "# create a baseline\n",
    "booster = xgb.XGBClassifier()\n",
    "\n",
    "# train\n",
    "booster.fit(train_features, train_labels)"
   ]
  },
  {
   "cell_type": "code",
   "execution_count": 64,
   "metadata": {},
   "outputs": [],
   "source": [
    "predictions = booster.predict(test_features)"
   ]
  },
  {
   "cell_type": "code",
   "execution_count": 65,
   "metadata": {},
   "outputs": [
    {
     "data": {
      "image/png": "[encoded data removed]",
      "text/plain": [
       "<Figure size 648x648 with 2 Axes>"
      ]
     },
     "metadata": {
      "needs_background": "light"
     },
     "output_type": "display_data"
    }
   ],
   "source": [
    "conf_mat(test_features,test_labels,predictions,etc)"
   ]
  },
  {
   "cell_type": "code",
   "execution_count": 66,
   "metadata": {},
   "outputs": [
    {
     "data": {
      "text/plain": [
       "Text(0.5,0,'Relative Feature Importance with XGBoost')"
      ]
     },
     "execution_count": 66,
     "metadata": {},
     "output_type": "execute_result"
    },
    {
     "data": {
      "image/png": "[encoded data removed]",
      "text/plain": [
       "<Figure size 720x360 with 1 Axes>"
      ]
     },
     "metadata": {
      "needs_background": "light"
     },
     "output_type": "display_data"
    }
   ],
   "source": [
    "# plot the important features\n",
    "feat_importances = pd.Series(booster.feature_importances_, index=features.columns)\n",
    "feat_importances.nlargest(15).sort_values().plot(kind='barh', color='green', figsize=(10,5))\n",
    "plt.xlabel('Relative Feature Importance with XGBoost')"
   ]
  },
  {
   "cell_type": "markdown",
   "metadata": {},
   "source": [
    "<b>Support Vector Machine</b>\n",
    "\n",
    "Definition: Support vector machine is a representation of the training data as points in space separated into categories by a clear gap that is as wide as possible. New examples are then mapped into that same space and predicted to belong to a category based on which side of the gap they fall.\n",
    "\n",
    "Advantages: Effective in high dimensional spaces and uses a subset of training points in the decision function so it is also memory efficient.\n",
    "\n",
    "Disadvantages: The algorithm does not directly provide probability estimates, these are calculated using an expensive five-fold cross-validation."
   ]
  },
  {
   "cell_type": "code",
   "execution_count": 76,
   "metadata": {},
   "outputs": [
    {
     "name": "stderr",
     "output_type": "stream",
     "text": [
      "C:\\Users\\ABONIA\\Anaconda3\\lib\\site-packages\\sklearn\\svm\\base.py:196: FutureWarning: The default value of gamma will change from 'auto' to 'scale' in version 0.22 to account better for unscaled features. Set gamma explicitly to 'auto' or 'scale' to avoid this warning.\n",
      "  \"avoid this warning.\", FutureWarning)\n"
     ]
    },
    {
     "data": {
      "image/png": "[encoded data removed]",
      "text/plain": [
       "<Figure size 648x648 with 2 Axes>"
      ]
     },
     "metadata": {
      "needs_background": "light"
     },
     "output_type": "display_data"
    }
   ],
   "source": [
    "# create a baseline\n",
    "import sklearn\n",
    "svm = sklearn.svm.SVC()\n",
    "\n",
    "# train\n",
    "svm.fit(train_features, train_labels)\n",
    "predictions = svm.predict(test_features)\n",
    "conf_mat(test_features,test_labels,predictions,dtc)"
   ]
  },
  {
   "cell_type": "markdown",
   "metadata": {},
   "source": [
    "# Hyperparameter optimization"
   ]
  },
  {
   "cell_type": "markdown",
   "metadata": {},
   "source": [
    "### XGBoost Parameter Optimization\n",
    "Some of the important hyperparameters to tune an XGBoost are:\n",
    "\n",
    "    n_estimators = Number of trees one wants to build.\n",
    "    learning_rate = Rate at which our model learns patterns in data. After every round, it shrinks the feature weights to reach the best optimum.\n",
    "    max_depth = Determines how deeply each tree is allowed to grow during any boosting round.\n",
    "    colsample_bytree = Percentage of features used per tree.\n",
    "    gamma = Specifies the minimum loss reduction required to make a split."
   ]
  },
  {
   "cell_type": "code",
   "execution_count": null,
   "metadata": {},
   "outputs": [],
   "source": [
    "from sklearn.model_selection import GridSearchCV\n",
    "\n",
    "# create Grid\n",
    "param_grid = {'n_estimators': [100, 150, 200],\n",
    "              'learning_rate': [0.01, 0.05, 0.1], \n",
    "              'max_depth': [3, 4, 5, 6, 7],\n",
    "              'colsample_bytree': [0.6, 0.7, 1],\n",
    "              'gamma': [0.0, 0.1, 0.2]}\n",
    "\n",
    "# instantiate the tuned algorithm\n",
    "booster_grid_search = GridSearchCV(booster, param_grid, cv=3, n_jobs=-1)\n",
    "\n",
    "# train the tuned algorithm\n",
    "booster_grid_search.fit(train_features, train_labels)\n",
    "\n",
    "# print best estimator parameters found during the grid search\n",
    "print(booster_grid_search.best_params_)"
   ]
  },
  {
   "cell_type": "code",
   "execution_count": 67,
   "metadata": {},
   "outputs": [
    {
     "data": {
      "image/png": "[encoded data removed]",
      "text/plain": [
       "<Figure size 648x648 with 2 Axes>"
      ]
     },
     "metadata": {
      "needs_background": "light"
     },
     "output_type": "display_data"
    }
   ],
   "source": [
    "# instantiate xgboost with best parameters\n",
    "booster = xgb.XGBClassifier(colsample_bytree=0.7, gamma=0.0, learning_rate=0.01,max_depth=3, n_estimators=100)\n",
    "# train\n",
    "booster.fit(train_features, train_labels)\n",
    "predictions = booster.predict(test_features)\n",
    "conf_mat(test_features,test_labels,predictions,booster)"
   ]
  },
  {
   "cell_type": "code",
   "execution_count": 68,
   "metadata": {},
   "outputs": [
    {
     "data": {
      "text/plain": [
       "Text(0.5,0,'Relative Feature Importance with XGBoost with best parameter')"
      ]
     },
     "execution_count": 68,
     "metadata": {},
     "output_type": "execute_result"
    },
    {
     "data": {
      "image/png": "[encoded data removed]",
      "text/plain": [
       "<Figure size 720x360 with 1 Axes>"
      ]
     },
     "metadata": {
      "needs_background": "light"
     },
     "output_type": "display_data"
    }
   ],
   "source": [
    "# plot the important features\n",
    "feat_importances = pd.Series(booster.feature_importances_, index=features.columns)\n",
    "feat_importances.nlargest(15).sort_values().plot(kind='barh', color='green', figsize=(10,5))\n",
    "plt.xlabel('Relative Feature Importance with XGBoost with best parameter')"
   ]
  },
  {
   "cell_type": "markdown",
   "metadata": {},
   "source": [
    "### Random Forest Parameter Optimization\n",
    "We will try adjusting the following set of hyperparameters:\n",
    "\n",
    "    n_estimators = number of trees in the foreset\n",
    "    max_depth = max number of levels in each decision tree\n",
    "    min_samples_split = min number of data points placed in a node before the node is split\n",
    "    min_samples_leaf = min number of data points allowed in a leaf node\n"
   ]
  },
  {
   "cell_type": "code",
   "execution_count": null,
   "metadata": {},
   "outputs": [],
   "source": [
    "# create Grid\n",
    "param_grid = {'n_estimators': [100, 300, 500, 800, 1200],\n",
    "              'max_depth': [5, 8, 15, 25, 30],\n",
    "              'min_samples_split' :[2, 5, 10, 15, 100],\n",
    "              'min_samples_leaf' : [1, 2, 5, 10] }\n",
    "\n",
    "# instantiate the tuned random forest\n",
    "rfc_grid_search = GridSearchCV(rfc, param_grid, cv=3, n_jobs=-1)\n",
    "\n",
    "# train the tuned random forest\n",
    "rfc_grid_search.fit(train_features, train_labels)\n",
    "\n",
    "# print best estimator parameters found during the grid search\n",
    "print(rfc_grid_search.best_params_)"
   ]
  },
  {
   "cell_type": "code",
   "execution_count": 69,
   "metadata": {},
   "outputs": [
    {
     "data": {
      "image/png": "[encoded data removed]",
      "text/plain": [
       "<Figure size 648x648 with 2 Axes>"
      ]
     },
     "metadata": {
      "needs_background": "light"
     },
     "output_type": "display_data"
    }
   ],
   "source": [
    "# instantiate random forest with best parameters\n",
    "rfc = RandomForestClassifier(max_depth= 8, min_samples_leaf= 1, min_samples_split= 2, n_estimators= 100)\n",
    "# train\n",
    "rfc.fit(train_features, train_labels)\n",
    "predictions = rfc.predict(test_features)\n",
    "conf_mat(test_features,test_labels,predictions,rfc)"
   ]
  },
  {
   "cell_type": "code",
   "execution_count": 70,
   "metadata": {},
   "outputs": [
    {
     "data": {
      "text/html": [
       "<div>\n",
       "<style scoped>\n",
       "    .dataframe tbody tr th:only-of-type {\n",
       "        vertical-align: middle;\n",
       "    }\n",
       "\n",
       "    .dataframe tbody tr th {\n",
       "        vertical-align: top;\n",
       "    }\n",
       "\n",
       "    .dataframe thead th {\n",
       "        text-align: right;\n",
       "    }\n",
       "</style>\n",
       "<table border=\"1\" class=\"dataframe\">\n",
       "  <thead>\n",
       "    <tr style=\"text-align: right;\">\n",
       "      <th></th>\n",
       "      <th>importance</th>\n",
       "    </tr>\n",
       "  </thead>\n",
       "  <tbody>\n",
       "    <tr>\n",
       "      <th>delay</th>\n",
       "      <td>1.000000</td>\n",
       "    </tr>\n",
       "    <tr>\n",
       "      <th>late</th>\n",
       "      <td>0.729275</td>\n",
       "    </tr>\n",
       "    <tr>\n",
       "      <th>review_before_delivery</th>\n",
       "      <td>0.593870</td>\n",
       "    </tr>\n",
       "    <tr>\n",
       "      <th>real_delivery_time</th>\n",
       "      <td>0.416904</td>\n",
       "    </tr>\n",
       "    <tr>\n",
       "      <th>freight_value</th>\n",
       "      <td>0.058950</td>\n",
       "    </tr>\n",
       "    <tr>\n",
       "      <th>estimated_delivery_time</th>\n",
       "      <td>0.054635</td>\n",
       "    </tr>\n",
       "    <tr>\n",
       "      <th>freight_ratio</th>\n",
       "      <td>0.053540</td>\n",
       "    </tr>\n",
       "    <tr>\n",
       "      <th>product_description_lenght</th>\n",
       "      <td>0.052447</td>\n",
       "    </tr>\n",
       "    <tr>\n",
       "      <th>payment_value</th>\n",
       "      <td>0.050263</td>\n",
       "    </tr>\n",
       "    <tr>\n",
       "      <th>price</th>\n",
       "      <td>0.046457</td>\n",
       "    </tr>\n",
       "    <tr>\n",
       "      <th>product_photos_qty</th>\n",
       "      <td>0.018650</td>\n",
       "    </tr>\n",
       "  </tbody>\n",
       "</table>\n",
       "</div>"
      ],
      "text/plain": [
       "                            importance\n",
       "delay                         1.000000\n",
       "late                          0.729275\n",
       "review_before_delivery        0.593870\n",
       "real_delivery_time            0.416904\n",
       "freight_value                 0.058950\n",
       "estimated_delivery_time       0.054635\n",
       "freight_ratio                 0.053540\n",
       "product_description_lenght    0.052447\n",
       "payment_value                 0.050263\n",
       "price                         0.046457\n",
       "product_photos_qty            0.018650"
      ]
     },
     "execution_count": 70,
     "metadata": {},
     "output_type": "execute_result"
    }
   ],
   "source": [
    "feature_importances_rfc = pd.DataFrame(rfc.feature_importances_,\n",
    "                                   index =  feature_list,\n",
    "                                    columns=['importance']).sort_values('importance', ascending=False)\n",
    "\n",
    "feature_importances_rfc['importance'] = feature_importances_rfc['importance']/np.max(feature_importances_rfc['importance'])\n",
    "feature_importances_rfc"
   ]
  },
  {
   "cell_type": "code",
   "execution_count": 71,
   "metadata": {},
   "outputs": [
    {
     "data": {
      "text/plain": [
       "<matplotlib.axes._subplots.AxesSubplot at 0x1edcfce36d8>"
      ]
     },
     "execution_count": 71,
     "metadata": {},
     "output_type": "execute_result"
    },
    {
     "data": {
      "image/png": "[encoded data removed]",
      "text/plain": [
       "<Figure size 360x720 with 1 Axes>"
      ]
     },
     "metadata": {
      "needs_background": "light"
     },
     "output_type": "display_data"
    }
   ],
   "source": [
    "plt.figure(figsize = (5,10))\n",
    "\n",
    "sns.barplot(y = feature_importances_rfc.index, x = feature_importances_rfc.importance, data = feature_importances_etc,palette = \"BuGn_r\")\n",
    "\n",
    "#plt.savefig('rfc.eps',bbox_inches = 'tight')"
   ]
  },
  {
   "cell_type": "markdown",
   "metadata": {},
   "source": [
    "### SVM Parameter Optimization\n",
    "    \n",
    "    Kernels: The main function of the kernel is to take low dimensional input space and transform it into a higher-dimensional space. It is mostly useful in non-linear separation problem.\n",
    "    \n",
    "    C (Regularisation): C is the penalty parameter, which represents misclassification or error term. The misclassification or error term tells the SVM optimisation how much error is bearable. This is how you can control the trade-off between decision boundary and misclassification term.\n",
    "    \n",
    "    Gamma: It defines how far influences the calculation of plausible line of separation."
   ]
  },
  {
   "cell_type": "code",
   "execution_count": null,
   "metadata": {},
   "outputs": [],
   "source": [
    "# create Grid\n",
    "param_grid = {'C': [0.1,1, 10, 100],\n",
    "              'gamma': [1,0.1,0.01,0.001],\n",
    "              'kernel': ['rbf', 'poly', 'sigmoid'] }\n",
    "\n",
    "# instantiate the tuned algorithm\n",
    "svm_grid_search = GridSearchCV(svm, param_grid, cv=3, n_jobs=-1)\n",
    "\n",
    "# train the tuned algorithm\n",
    "svm_grid_search.fit(train_features, train_labels)\n",
    "\n",
    "# print best estimator parameters found during the grid search\n",
    "print(svm_grid_search.best_params_)"
   ]
  },
  {
   "cell_type": "code",
   "execution_count": 89,
   "metadata": {},
   "outputs": [
    {
     "data": {
      "image/png": "[encoded data removed]",
      "text/plain": [
       "<Figure size 648x648 with 2 Axes>"
      ]
     },
     "metadata": {
      "needs_background": "light"
     },
     "output_type": "display_data"
    }
   ],
   "source": [
    "# instantiate svm with best parameters\n",
    "svm = sklearn.svm.SVC(C=1.0, gamma=0.01,kernel='rbf')\n",
    "# train\n",
    "svm.fit(train_features, train_labels)\n",
    "predictions = svm.predict(test_features)\n",
    "conf_mat(test_features,test_labels,predictions,svm)"
   ]
  },
  {
   "cell_type": "code",
   "execution_count": null,
   "metadata": {},
   "outputs": [],
   "source": [
    "#Use below code in case of using linear kernel\n",
    "#feature_importances_svm = pd.DataFrame(svm.coef_,\n",
    "#                                  index =  feature_list,\n",
    "#                                   columns=['importance']).sort_values('importance', ascending=False)\n",
    "\n",
    "#feature_importances_svm['importance'] = feature_importances_svm['importance']/np.max(feature_importances_svm['importance'])\n",
    "\n",
    "\n",
    "#print(feature_importances_svm)\n",
    "\n",
    "#plt.figure(figsize = (5,10))\n",
    "\n",
    "#sns.barplot(y = feature_importances_svm.index, x = feature_importances_svm.importance, data = feature_importances_svm,palette = \"BuGn_r\")\n",
    "\n",
    "#plt.savefig('rfc.eps',bbox_inches = 'tight')"
   ]
  },
  {
   "cell_type": "markdown",
   "metadata": {},
   "source": [
    "### Decision Tree parameter optimization\n",
    "    \n",
    "    max_depth = The maximum depth of the tree. If None, then nodes are expanded until all leaves are pure or until all leaves contain less than min_samples_split samples.\n",
    "    \n",
    "    max_features=The number of features to consider when looking for the best split.\n",
    "    \n",
    "    min_samples_leaf=The minimum number of samples required to be at a leaf node. A split point at any depth will only be considered if it leaves at least min_samples_leaf training samples in each of the left and right branches.\n",
    "    \n",
    "    criterion=The function to measure the quality of a split. Supported criteria are “gini” for the Gini impurity and “entropy” for the information gain."
   ]
  },
  {
   "cell_type": "code",
   "execution_count": 94,
   "metadata": {},
   "outputs": [
    {
     "name": "stdout",
     "output_type": "stream",
     "text": [
      "{'criterion': 'gini', 'max_depth': 4, 'max_features': 4, 'min_samples_leaf': 6}\n"
     ]
    }
   ],
   "source": [
    "# create Grid\n",
    "param_grid = {\"max_depth\": [3,4],\n",
    "              \"max_features\": [2,4,6,7,8],\n",
    "              \"min_samples_leaf\": [2,4,6,7,8],\n",
    "              \"criterion\": [\"gini\", \"entropy\"]}\n",
    "\n",
    "# instantiate the tuned algorithm\n",
    "dtc_grid_search = GridSearchCV(dtc, param_grid, cv=3, n_jobs=-1)\n",
    "\n",
    "# train the tuned algorithm\n",
    "dtc_grid_search.fit(train_features, train_labels)\n",
    "\n",
    "# print best estimator parameters found during the grid search\n",
    "print(dtc_grid_search.best_params_)"
   ]
  },
  {
   "cell_type": "code",
   "execution_count": 96,
   "metadata": {},
   "outputs": [
    {
     "data": {
      "image/png": "[encoded data removed]",
      "text/plain": [
       "<Figure size 648x648 with 2 Axes>"
      ]
     },
     "metadata": {
      "needs_background": "light"
     },
     "output_type": "display_data"
    }
   ],
   "source": [
    "dtc = DecisionTreeClassifier(criterion='gini',max_depth=4,max_features=4,min_samples_leaf=6)\n",
    "\n",
    "dtc.fit(train_features,train_labels)\n",
    "feature_importances_decisiontree = pd.DataFrame(dtc.feature_importances_,\n",
    "                                   index =  feature_list,\n",
    "                                    columns=['importance']).sort_values('importance', ascending=False)\n",
    "\n",
    "\n",
    "predictions = dtc.predict(test_features)\n",
    "conf_mat(test_features,test_labels,predictions,dtc)"
   ]
  },
  {
   "cell_type": "code",
   "execution_count": 97,
   "metadata": {},
   "outputs": [
    {
     "data": {
      "text/html": [
       "<div>\n",
       "<style scoped>\n",
       "    .dataframe tbody tr th:only-of-type {\n",
       "        vertical-align: middle;\n",
       "    }\n",
       "\n",
       "    .dataframe tbody tr th {\n",
       "        vertical-align: top;\n",
       "    }\n",
       "\n",
       "    .dataframe thead th {\n",
       "        text-align: right;\n",
       "    }\n",
       "</style>\n",
       "<table border=\"1\" class=\"dataframe\">\n",
       "  <thead>\n",
       "    <tr style=\"text-align: right;\">\n",
       "      <th></th>\n",
       "      <th>importance</th>\n",
       "    </tr>\n",
       "  </thead>\n",
       "  <tbody>\n",
       "    <tr>\n",
       "      <th>delay</th>\n",
       "      <td>1.000000</td>\n",
       "    </tr>\n",
       "    <tr>\n",
       "      <th>real_delivery_time</th>\n",
       "      <td>0.078917</td>\n",
       "    </tr>\n",
       "    <tr>\n",
       "      <th>review_before_delivery</th>\n",
       "      <td>0.077961</td>\n",
       "    </tr>\n",
       "    <tr>\n",
       "      <th>price</th>\n",
       "      <td>0.003783</td>\n",
       "    </tr>\n",
       "    <tr>\n",
       "      <th>payment_value</th>\n",
       "      <td>0.002349</td>\n",
       "    </tr>\n",
       "    <tr>\n",
       "      <th>freight_value</th>\n",
       "      <td>0.001503</td>\n",
       "    </tr>\n",
       "    <tr>\n",
       "      <th>product_description_lenght</th>\n",
       "      <td>0.000000</td>\n",
       "    </tr>\n",
       "    <tr>\n",
       "      <th>product_photos_qty</th>\n",
       "      <td>0.000000</td>\n",
       "    </tr>\n",
       "    <tr>\n",
       "      <th>estimated_delivery_time</th>\n",
       "      <td>0.000000</td>\n",
       "    </tr>\n",
       "    <tr>\n",
       "      <th>late</th>\n",
       "      <td>0.000000</td>\n",
       "    </tr>\n",
       "    <tr>\n",
       "      <th>freight_ratio</th>\n",
       "      <td>0.000000</td>\n",
       "    </tr>\n",
       "  </tbody>\n",
       "</table>\n",
       "</div>"
      ],
      "text/plain": [
       "                            importance\n",
       "delay                         1.000000\n",
       "real_delivery_time            0.078917\n",
       "review_before_delivery        0.077961\n",
       "price                         0.003783\n",
       "payment_value                 0.002349\n",
       "freight_value                 0.001503\n",
       "product_description_lenght    0.000000\n",
       "product_photos_qty            0.000000\n",
       "estimated_delivery_time       0.000000\n",
       "late                          0.000000\n",
       "freight_ratio                 0.000000"
      ]
     },
     "execution_count": 97,
     "metadata": {},
     "output_type": "execute_result"
    }
   ],
   "source": [
    "feature_importances_decisiontree['importance']=feature_importances_decisiontree['importance']/np.max(feature_importances_decisiontree['importance'])\n",
    "feature_importances_decisiontree"
   ]
  },
  {
   "cell_type": "code",
   "execution_count": 106,
   "metadata": {},
   "outputs": [
    {
     "data": {
      "text/plain": [
       "<matplotlib.axes._subplots.AxesSubplot at 0x1edcdf7b320>"
      ]
     },
     "execution_count": 106,
     "metadata": {},
     "output_type": "execute_result"
    },
    {
     "data": {
      "image/png": "[encoded data removed]",
      "text/plain": [
       "<Figure size 216x720 with 1 Axes>"
      ]
     },
     "metadata": {
      "needs_background": "light"
     },
     "output_type": "display_data"
    }
   ],
   "source": [
    "plt.figure(figsize = (3,10))\n",
    "\n",
    "sns.barplot(y = feature_importances_decisiontree.index, x = feature_importances_decisiontree.importance, data = feature_importances_etc,palette = \"BuGn_r\")\n",
    "\n",
    "#plt.savefig('dt.eps',bbox_inches = 'tight')"
   ]
  },
  {
   "cell_type": "markdown",
   "metadata": {},
   "source": [
    "### Extra Tree Classifier Parameter Optimization\n",
    "\n",
    "    Explore Number of Trees=An important hyperparameter for Extra Trees algorithm is the number of decision trees used in the ensemble.\n",
    "    Explore Number of Features=The number of features that is randomly sampled for each split point is perhaps the most important feature to configure for Extra Trees, as it is for Random Forest.\n",
    "    Explore Minimum Samples per Split= the number of samples in a node of the decision tree before adding a split.\n"
   ]
  },
  {
   "cell_type": "code",
   "execution_count": 100,
   "metadata": {},
   "outputs": [
    {
     "name": "stdout",
     "output_type": "stream",
     "text": [
      "{'max_features': 4, 'min_samples_split': 100, 'n_estimators': 100}\n"
     ]
    }
   ],
   "source": [
    "# create Grid\n",
    "param_grid = {'n_estimators': [100, 300, 500],\n",
    "             'max_features':[4,5,6,7],\n",
    "             'min_samples_split' :[2, 5, 10, 15, 100]}\n",
    "\n",
    "# instantiate the tuned algorithm\n",
    "etc_grid_search = GridSearchCV(etc, param_grid, cv=3, n_jobs=-1)\n",
    "\n",
    "# train the tuned algorithm\n",
    "etc_grid_search.fit(train_features, train_labels)\n",
    "\n",
    "# print best estimator parameters found during the grid search\n",
    "print(etc_grid_search.best_params_)"
   ]
  },
  {
   "cell_type": "code",
   "execution_count": 101,
   "metadata": {},
   "outputs": [],
   "source": [
    "from sklearn.ensemble import ExtraTreesClassifier\n",
    "etc = ExtraTreesClassifier(n_estimators=100,max_features=4,min_samples_split=100)\n",
    "etc.fit(train_features,train_labels)\n",
    "\n",
    "predictions = etc.predict(test_features)"
   ]
  },
  {
   "cell_type": "code",
   "execution_count": 102,
   "metadata": {},
   "outputs": [
    {
     "data": {
      "image/png": "[encoded data removed]",
      "text/plain": [
       "<Figure size 648x648 with 2 Axes>"
      ]
     },
     "metadata": {
      "needs_background": "light"
     },
     "output_type": "display_data"
    }
   ],
   "source": [
    "conf_mat(test_features,test_labels,predictions,etc)"
   ]
  },
  {
   "cell_type": "code",
   "execution_count": 103,
   "metadata": {},
   "outputs": [
    {
     "data": {
      "text/html": [
       "<div>\n",
       "<style scoped>\n",
       "    .dataframe tbody tr th:only-of-type {\n",
       "        vertical-align: middle;\n",
       "    }\n",
       "\n",
       "    .dataframe tbody tr th {\n",
       "        vertical-align: top;\n",
       "    }\n",
       "\n",
       "    .dataframe thead th {\n",
       "        text-align: right;\n",
       "    }\n",
       "</style>\n",
       "<table border=\"1\" class=\"dataframe\">\n",
       "  <thead>\n",
       "    <tr style=\"text-align: right;\">\n",
       "      <th></th>\n",
       "      <th>importance</th>\n",
       "    </tr>\n",
       "  </thead>\n",
       "  <tbody>\n",
       "    <tr>\n",
       "      <th>review_before_delivery</th>\n",
       "      <td>1.000000</td>\n",
       "    </tr>\n",
       "    <tr>\n",
       "      <th>late</th>\n",
       "      <td>0.744386</td>\n",
       "    </tr>\n",
       "    <tr>\n",
       "      <th>real_delivery_time</th>\n",
       "      <td>0.222144</td>\n",
       "    </tr>\n",
       "    <tr>\n",
       "      <th>delay</th>\n",
       "      <td>0.115654</td>\n",
       "    </tr>\n",
       "    <tr>\n",
       "      <th>estimated_delivery_time</th>\n",
       "      <td>0.070179</td>\n",
       "    </tr>\n",
       "    <tr>\n",
       "      <th>product_description_lenght</th>\n",
       "      <td>0.066880</td>\n",
       "    </tr>\n",
       "    <tr>\n",
       "      <th>freight_value</th>\n",
       "      <td>0.065549</td>\n",
       "    </tr>\n",
       "    <tr>\n",
       "      <th>freight_ratio</th>\n",
       "      <td>0.059878</td>\n",
       "    </tr>\n",
       "    <tr>\n",
       "      <th>price</th>\n",
       "      <td>0.058080</td>\n",
       "    </tr>\n",
       "    <tr>\n",
       "      <th>payment_value</th>\n",
       "      <td>0.057968</td>\n",
       "    </tr>\n",
       "    <tr>\n",
       "      <th>product_photos_qty</th>\n",
       "      <td>0.046448</td>\n",
       "    </tr>\n",
       "  </tbody>\n",
       "</table>\n",
       "</div>"
      ],
      "text/plain": [
       "                            importance\n",
       "review_before_delivery        1.000000\n",
       "late                          0.744386\n",
       "real_delivery_time            0.222144\n",
       "delay                         0.115654\n",
       "estimated_delivery_time       0.070179\n",
       "product_description_lenght    0.066880\n",
       "freight_value                 0.065549\n",
       "freight_ratio                 0.059878\n",
       "price                         0.058080\n",
       "payment_value                 0.057968\n",
       "product_photos_qty            0.046448"
      ]
     },
     "execution_count": 103,
     "metadata": {},
     "output_type": "execute_result"
    }
   ],
   "source": [
    "feature_importances_etc = pd.DataFrame(etc.feature_importances_,\n",
    "                                   index =  feature_list,\n",
    "                                    columns=['importance']).sort_values('importance', ascending=False)\n",
    "feature_importances_etc['importance'] = feature_importances_etc['importance']/ np.max(feature_importances_etc['importance'])\n",
    "feature_importances_etc"
   ]
  },
  {
   "cell_type": "code",
   "execution_count": 104,
   "metadata": {},
   "outputs": [
    {
     "data": {
      "text/plain": [
       "<matplotlib.axes._subplots.AxesSubplot at 0x1edcf56dba8>"
      ]
     },
     "execution_count": 104,
     "metadata": {},
     "output_type": "execute_result"
    },
    {
     "data": {
      "image/png": "[encoded data removed]",
      "text/plain": [
       "<Figure size 360x720 with 1 Axes>"
      ]
     },
     "metadata": {
      "needs_background": "light"
     },
     "output_type": "display_data"
    }
   ],
   "source": [
    "plt.figure(figsize = (5,10))\n",
    "\n",
    "sns.barplot(y = feature_importances_etc.index, x = feature_importances_etc.importance, data = feature_importances_etc,palette = \"BuGn_r\")\n",
    "#plt.savefig('etc.eps',bbox_inches = 'tight')"
   ]
  },
  {
   "cell_type": "markdown",
   "metadata": {},
   "source": [
    "# Future Work\n",
    "\n",
    "1.Dataset preprocessing must be improved further to produce better result.\n",
    "\n",
    "\n",
    "2.Using only the top best important features with algorithm can improve model performance\n",
    "\n",
    "\n",
    "3.Use different parameter with different values can also improve the model performance in future\n",
    "\n"
   ]
  },
  {
   "cell_type": "markdown",
   "metadata": {},
   "source": [
    "# Conclusion \n",
    "\n",
    "As our model performance is good still need a improvement in future.\n",
    "\n",
    "Those were highlighted by customers directly on the surveys through review comments. \n",
    "\n",
    "We came to the conclusion that mostly, customers were happy when the order was shipped fast, i.e, before the estimated delivery date and the received product quality matched their expectations online. Likewise, they did not hesitate to show their discontent when it was not the case. \n"
   ]
  },
  {
   "cell_type": "markdown",
   "metadata": {},
   "source": [
    "# References\n",
    "[1] Kaggle Brazilian E-Commerce Public Dataset by Olist:https://www.kaggle.com/olistbr/brazilian-ecommerce\n",
    "\n",
    "[2] Customer Satisfaction Prediction on Brazilian E-Commerce dataset :https://www.kaggle.com/khakim17/custumer-satisfaction-prediction-and-analysist\n",
    "\n",
    "[3] Customer Spend, Satisfaction and Segmentation using Machine Learning Techniques:https://medium.com/@horlaneyee/customer-spend-satisfaction-and-segmentation-using-machine-learning-techniques-15822b60f5b1\n",
    "\n",
    "[4] Review Prediction Brazilian E-Commerce Dataset By Olist:https://medium.com/@deelipku23/review-prediction-brazilian-e-commerce-dataset-7f4312e0e5d5\n",
    "\n",
    "[5] Relationships Using an EER Diagram:https://dev.mysql.com/doc/workbench/en/wb-relationship-tools.html\n",
    "\n",
    "\n"
   ]
  }
 ],
 "metadata": {
  "kernelspec": {
   "display_name": "Python 3",
   "language": "python",
   "name": "python3"
  },
  "language_info": {
   "codemirror_mode": {
    "name": "ipython",
    "version": 3
   },
   "file_extension": ".py",
   "mimetype": "text/x-python",
   "name": "python",
   "nbconvert_exporter": "python",
   "pygments_lexer": "ipython3",
   "version": "3.6.5"
  }
 },
 "nbformat": 4,
 "nbformat_minor": 2
}
